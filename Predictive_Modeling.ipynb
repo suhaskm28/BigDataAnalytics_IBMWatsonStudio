{
  "cells": [
    {
      "cell_type": "markdown",
      "source": [
        "# **Predictive Modeling with Apache Spark and IBM Cloud Object Storage**"
      ],
      "metadata": {
        "id": "NXxrs8KC0fDF"
      }
    },
    {
      "cell_type": "markdown",
      "source": [
        "## **Installing Required Dependencies**  \n",
        "To interact with IBM Cloud Object Storage (COS) and process data with Apache Spark, install the required dependencies."
      ],
      "metadata": {
        "id": "Gux-TThWzh76"
      }
    },
    {
      "cell_type": "code",
      "source": [
        "# !pip install ibm-cos-sdk"
      ],
      "metadata": {
        "id": "9177-eqcKByQ"
      },
      "execution_count": 44,
      "outputs": []
    },
    {
      "cell_type": "markdown",
      "source": [
        "- The `ibm-cos-sdk` library allows interaction with IBM Cloud Object Storage."
      ],
      "metadata": {
        "id": "FCNz_T9p0q6Z"
      }
    },
    {
      "cell_type": "markdown",
      "source": [
        "## **Importing Necessary Libraries**  \n",
        "The following libraries are essential for data processing and cloud storage interaction:"
      ],
      "metadata": {
        "id": "XfOdhej00x9N"
      }
    },
    {
      "cell_type": "code",
      "source": [
        "import os\n",
        "import sys\n",
        "from pyspark.sql import SparkSession\n",
        "from pyspark.sql.types import StructType, StructField, StringType, IntegerType, DoubleType\n",
        "import ibm_boto3\n",
        "from ibm_botocore.client import Config\n",
        "import pandas as pd\n",
        "import io"
      ],
      "metadata": {
        "id": "mWFdZAY_GOda"
      },
      "execution_count": 45,
      "outputs": []
    },
    {
      "cell_type": "markdown",
      "source": [
        "### **Library Functions:**\n",
        "- `pyspark.sql.SparkSession`: Manages Spark functionalities.  \n",
        "- `pyspark.sql.types`: Defines structured schemas for Spark DataFrames.  \n",
        "- `ibm_boto3` & `ibm_botocore.client.Config`: Enables interaction with IBM Cloud Object Storage (COS).  \n",
        "- `pandas` & `io`: Handles data in memory, allowing efficient processing.  "
      ],
      "metadata": {
        "id": "r6ub-p_N05Mt"
      }
    },
    {
      "cell_type": "markdown",
      "source": [
        "## **Setting Up IBM Cloud Object Storage Client**  \n",
        "To interact with IBM Cloud Object Storage (COS), we must configure authentication credentials and initialize a client.  "
      ],
      "metadata": {
        "id": "Y_adLFtg09Tw"
      }
    },
    {
      "cell_type": "code",
      "source": [
        "# IBM Cloud Object Storage Credentials\n",
        "cos_credentials = {\n",
        "    \"access_key_id\": \"891d47bfa17346038b970fa46d63fd41\",\n",
        "    \"secret_access_key\": \"25fb5c98b01a4359fc5a11fcd848ae60debd89c2ac7ebf66\",\n",
        "    \"endpoint\": \"https://s3.eu-de.cloud-object-storage.appdomain.cloud\",\n",
        "}\n",
        "\n",
        "# Create IBM COS Client\n",
        "cos_client = ibm_boto3.client(\n",
        "    service_name=\"s3\",\n",
        "    aws_access_key_id=cos_credentials[\"access_key_id\"],\n",
        "    aws_secret_access_key=cos_credentials[\"secret_access_key\"],\n",
        "    endpoint_url=cos_credentials[\"endpoint\"]\n",
        ")\n",
        "\n",
        "BUCKET_NAME = \"processed-data-bucket\"\n",
        "FILE_NAME = \"processed_customer_purchase_behavior.csv\""
      ],
      "metadata": {
        "id": "WiMQ-bpCG7ZI"
      },
      "execution_count": 46,
      "outputs": []
    },
    {
      "cell_type": "markdown",
      "source": [
        "### **Explanation:**\n",
        "- `cos_credentials`: A dictionary storing IBM COS credentials (access key, secret key, and endpoint).  \n",
        "- `ibm_boto3.client(\"s3\")`: Initializes an IBM COS client for interacting with the object storage service.  \n",
        "- `BUCKET_NAME`: The name of the storage bucket where data is stored.  \n",
        "- `FILE_NAME`: The specific file to be accessed for predictive modeling.  \n",
        "\n",
        "✅ With this setup, we can now retrieve data from IBM Cloud Object Storage securely."
      ],
      "metadata": {
        "id": "GEX4ynq51Avu"
      }
    },
    {
      "cell_type": "markdown",
      "source": [
        "## **Initializing Spark Session**  \n",
        "Apache Spark is a powerful distributed processing system. Here, we initialize a Spark session to process large datasets.  "
      ],
      "metadata": {
        "id": "bfI2wwZ61haF"
      }
    },
    {
      "cell_type": "code",
      "execution_count": 47,
      "metadata": {
        "msg_id": "148d4028-7560-41b1-a055-79503507a5e2",
        "colab": {
          "base_uri": "https://localhost:8080/"
        },
        "id": "VobdQzwn0tAC",
        "outputId": "3bfadd1b-b8cc-467f-b530-4064ab7ea477"
      },
      "outputs": [
        {
          "output_type": "stream",
          "name": "stdout",
          "text": [
            "✅ Spark Session Initialized!\n"
          ]
        }
      ],
      "source": [
        "from pyspark.sql import SparkSession\n",
        "\n",
        "# Initialize Spark Session\n",
        "spark = SparkSession.builder \\\n",
        "    .appName(\"Predictive_Modeling\") \\\n",
        "    .master(\"local[*]\") \\\n",
        "    .getOrCreate()\n",
        "\n",
        "print(\"✅ Spark Session Initialized!\")\n"
      ]
    },
    {
      "cell_type": "markdown",
      "source": [
        "### **Key Parameters:**\n",
        "- `.appName(\"Predictive_Modeling\")`: Assigns a name to the Spark application.  \n",
        "- `.master(\"local[*]\")`: Runs Spark locally using all available CPU cores.  \n",
        "- `.getOrCreate()`: Creates a new Spark session if one does not exist.  \n",
        "\n",
        "✅ If successful, Spark will display an initialization message."
      ],
      "metadata": {
        "id": "m7rwL_0s1iJz"
      }
    },
    {
      "cell_type": "markdown",
      "source": [
        "## **Downloading Data from IBM Cloud Object Storage**  \n",
        "The dataset is stored in IBM Cloud Object Storage. To analyze it, we first retrieve the file from the specified bucket.  "
      ],
      "metadata": {
        "id": "XftHI9rz1iiA"
      }
    },
    {
      "cell_type": "code",
      "source": [
        "# Download the file from COS\n",
        "response = cos_client.get_object(Bucket=BUCKET_NAME, Key=FILE_NAME)\n",
        "file_content = response[\"Body\"].read().decode(\"utf-8\")"
      ],
      "metadata": {
        "id": "V3XcPvQMHZjV"
      },
      "execution_count": 48,
      "outputs": []
    },
    {
      "cell_type": "markdown",
      "source": [
        "### **Explanation:**\n",
        "- `cos_client.get_object()`: Fetches the file from COS.  \n",
        "- `.read().decode(\"utf-8\")`: Reads and decodes the file content for processing.  "
      ],
      "metadata": {
        "id": "FDcWjXkv1jYe"
      }
    },
    {
      "cell_type": "markdown",
      "source": [
        "## **Converting Data to Pandas and Saving Locally**  \n",
        "Once the dataset is retrieved, it is loaded into a Pandas DataFrame for further processing."
      ],
      "metadata": {
        "id": "nN9LcAZ-1jcH"
      }
    },
    {
      "cell_type": "code",
      "source": [
        "data = pd.read_csv(io.StringIO(file_content))\n",
        "\n",
        "data.to_csv(\"/content/\" + FILE_NAME, index=False)  # Save locally for Spark to read"
      ],
      "metadata": {
        "id": "v_FxKbpmHdel"
      },
      "execution_count": 49,
      "outputs": []
    },
    {
      "cell_type": "markdown",
      "source": [
        "### **Why Save Locally?**  \n",
        "- `pd.read_csv()`: Loads the dataset into a Pandas DataFrame.  \n",
        "- `to_csv()`: Saves the file locally so that it can be read by Apache Spark.  \n",
        "\n",
        "This ensures that Spark can efficiently access the data for further transformations."
      ],
      "metadata": {
        "id": "5wzLMMaA1kIl"
      }
    },
    {
      "cell_type": "markdown",
      "source": [
        "## **Defining the Schema and Loading Processed Data**  \n",
        "\n",
        "To ensure structured data processing, we define an explicit schema for our dataset before loading it into a Spark DataFrame. This guarantees data integrity and consistency."
      ],
      "metadata": {
        "id": "EbswfXHQ1kLw"
      }
    },
    {
      "cell_type": "code",
      "execution_count": 50,
      "metadata": {
        "colab": {
          "base_uri": "https://localhost:8080/"
        },
        "id": "kkRBSoud0tAD",
        "outputId": "4ab09358-c282-481e-953c-b388237dbca8"
      },
      "outputs": [
        {
          "output_type": "stream",
          "name": "stdout",
          "text": [
            "✅ Processed Data Loaded Successfully!\n",
            "root\n",
            " |-- Customer ID: string (nullable = true)\n",
            " |-- Age: integer (nullable = true)\n",
            " |-- Gender: string (nullable = true)\n",
            " |-- Item Purchased: string (nullable = true)\n",
            " |-- Category: string (nullable = true)\n",
            " |-- Purchase Amount (USD): double (nullable = true)\n",
            " |-- Location: string (nullable = true)\n",
            " |-- Size: string (nullable = true)\n",
            " |-- Color: string (nullable = true)\n",
            " |-- Season: string (nullable = true)\n",
            " |-- Review Rating: double (nullable = true)\n",
            " |-- Subscription Status: integer (nullable = true)\n",
            " |-- Payment Method: string (nullable = true)\n",
            " |-- Shipping Type: string (nullable = true)\n",
            " |-- Discount Applied: integer (nullable = true)\n",
            " |-- Promo Code Used: integer (nullable = true)\n",
            " |-- Previous Purchases: integer (nullable = true)\n",
            " |-- Preferred Payment Method: string (nullable = true)\n",
            " |-- Frequency of Purchases: string (nullable = true)\n",
            " |-- High Value Customer: string (nullable = true)\n",
            "\n"
          ]
        }
      ],
      "source": [
        "import os\n",
        "from pyspark.sql.types import StructType, StructField, StringType, IntegerType, DoubleType\n",
        "\n",
        "# Define your file path (Ensure this is the correct path)\n",
        "#LOCAL_FILE_PATH = \"processed_data_bucket/processed_customer_purchase_behavior.csv\"\n",
        "\n",
        "# Define the schema of your processed data\n",
        "schema = StructType([\n",
        "    StructField(\"Customer ID\", StringType(), True),\n",
        "    StructField(\"Age\", IntegerType(), True),\n",
        "    StructField(\"Gender\", StringType(), True),\n",
        "    StructField(\"Item Purchased\", StringType(), True),\n",
        "    StructField(\"Category\", StringType(), True),\n",
        "    StructField(\"Purchase Amount (USD)\", DoubleType(), True),\n",
        "    StructField(\"Location\", StringType(), True),\n",
        "    StructField(\"Size\", StringType(), True),\n",
        "    StructField(\"Color\", StringType(), True),\n",
        "    StructField(\"Season\", StringType(), True),\n",
        "    StructField(\"Review Rating\", DoubleType(), True),\n",
        "    StructField(\"Subscription Status\", IntegerType(), True),\n",
        "    StructField(\"Payment Method\", StringType(), True),\n",
        "    StructField(\"Shipping Type\", StringType(), True),\n",
        "    StructField(\"Discount Applied\", IntegerType(), True),\n",
        "    StructField(\"Promo Code Used\", IntegerType(), True),\n",
        "    StructField(\"Previous Purchases\", IntegerType(), True),\n",
        "    StructField(\"Preferred Payment Method\", StringType(), True),\n",
        "    StructField(\"Frequency of Purchases\", StringType(), True),\n",
        "    StructField(\"High Value Customer\", StringType(), True)\n",
        "])\n",
        "\n",
        "# Read the processed data from local CSV file\n",
        "processed_df = spark.read.option(\"header\", \"true\").schema(schema).csv(\"/content/\" + FILE_NAME)\n",
        "\n",
        "# Display schema and first few rows\n",
        "print(\"✅ Processed Data Loaded Successfully!\")\n",
        "processed_df.printSchema()"
      ]
    },
    {
      "cell_type": "markdown",
      "source": [
        "### **Explanation:**\n",
        "- **`StructType([])`**: Defines the schema as a structured collection of fields.  \n",
        "- **Each `StructField` contains:**\n",
        "  - Column Name  \n",
        "  - Data Type (e.g., `StringType()`, `IntegerType()`, `DoubleType()`)  \n",
        "  - Nullability (`True` if the column can have missing values)  \n",
        "- **Spark Read Operation**:  \n",
        "  - Reads the CSV file while applying the predefined schema.  \n",
        "  - Ensures proper data types instead of relying on automatic type inference.  \n",
        "- **Validation**:  \n",
        "  - `printSchema()`: Displays the structure of the loaded DataFrame to confirm correctness.  \n",
        "\n",
        "✅ **This schema-based loading ensures structured data ingestion, reducing errors in subsequent analysis.**  "
      ],
      "metadata": {
        "id": "Mr2Y9d_X2gCJ"
      }
    },
    {
      "cell_type": "code",
      "execution_count": 51,
      "metadata": {
        "colab": {
          "base_uri": "https://localhost:8080/",
          "height": 556
        },
        "id": "zbnnyFOL0tAE",
        "outputId": "65f45f30-b49e-4485-a03e-5505826827a3"
      },
      "outputs": [
        {
          "output_type": "execute_result",
          "data": {
            "text/plain": [
              "  Customer ID  Age Gender Item Purchased     Category  Purchase Amount (USD)  \\\n",
              "0           1   55   Male         Blouse     Clothing                   53.0   \n",
              "1           2   19   Male        Sweater     Clothing                   64.0   \n",
              "2           3   50   Male          Jeans     Clothing                   73.0   \n",
              "3           4   21   Male        Sandals     Footwear                   90.0   \n",
              "4           5   45   Male         Blouse     Clothing                   49.0   \n",
              "5           6   46   Male       Sneakers     Footwear                   20.0   \n",
              "6           7   63   Male          Shirt     Clothing                   85.0   \n",
              "7           8   27   Male         Shorts     Clothing                   34.0   \n",
              "8           9   26   Male           Coat    Outerwear                   97.0   \n",
              "9          10   57   Male        Handbag  Accessories                   31.0   \n",
              "\n",
              "        Location Size      Color  Season  Review Rating  Subscription Status  \\\n",
              "0       Kentucky    L       Gray  Winter            3.1                    1   \n",
              "1          Maine    L     Maroon  Winter            3.1                    1   \n",
              "2  Massachusetts    S     Maroon  Spring            3.1                    1   \n",
              "3   Rhode Island    M     Maroon  Spring            3.5                    1   \n",
              "4         Oregon    M  Turquoise  Spring            2.7                    1   \n",
              "5        Wyoming    M      White  Summer            2.9                    1   \n",
              "6        Montana    M       Gray    Fall            3.2                    1   \n",
              "7      Louisiana    L   Charcoal  Winter            3.2                    1   \n",
              "8  West Virginia    L     Silver  Summer            2.6                    1   \n",
              "9       Missouri    M       Pink  Spring            4.8                    1   \n",
              "\n",
              "  Payment Method   Shipping Type  Discount Applied  Promo Code Used  \\\n",
              "0    Credit Card         Express                 1                1   \n",
              "1  Bank Transfer         Express                 1                1   \n",
              "2           Cash   Free Shipping                 1                1   \n",
              "3         PayPal    Next Day Air                 1                1   \n",
              "4           Cash   Free Shipping                 1                1   \n",
              "5          Venmo        Standard                 1                1   \n",
              "6     Debit Card   Free Shipping                 1                1   \n",
              "7     Debit Card   Free Shipping                 1                1   \n",
              "8          Venmo         Express                 1                1   \n",
              "9         PayPal  2-Day Shipping                 1                1   \n",
              "\n",
              "   Previous Purchases Preferred Payment Method Frequency of Purchases  \\\n",
              "0                  14                    Venmo            Fortnightly   \n",
              "1                   2                     Cash            Fortnightly   \n",
              "2                  23              Credit Card                 Weekly   \n",
              "3                  49                   PayPal                 Weekly   \n",
              "4                  31                   PayPal               Annually   \n",
              "5                  14                    Venmo                 Weekly   \n",
              "6                  49                     Cash              Quarterly   \n",
              "7                  19              Credit Card                 Weekly   \n",
              "8                   8                    Venmo               Annually   \n",
              "9                   4                     Cash              Quarterly   \n",
              "\n",
              "  High Value Customer  \n",
              "0                  No  \n",
              "1                  No  \n",
              "2                  No  \n",
              "3                 Yes  \n",
              "4                  No  \n",
              "5                  No  \n",
              "6                 Yes  \n",
              "7                  No  \n",
              "8                 Yes  \n",
              "9                  No  "
            ],
            "text/html": [
              "\n",
              "  <div id=\"df-d5476f41-e7da-40fc-9e2d-aee7a5e2365d\" class=\"colab-df-container\">\n",
              "    <div>\n",
              "<style scoped>\n",
              "    .dataframe tbody tr th:only-of-type {\n",
              "        vertical-align: middle;\n",
              "    }\n",
              "\n",
              "    .dataframe tbody tr th {\n",
              "        vertical-align: top;\n",
              "    }\n",
              "\n",
              "    .dataframe thead th {\n",
              "        text-align: right;\n",
              "    }\n",
              "</style>\n",
              "<table border=\"1\" class=\"dataframe\">\n",
              "  <thead>\n",
              "    <tr style=\"text-align: right;\">\n",
              "      <th></th>\n",
              "      <th>Customer ID</th>\n",
              "      <th>Age</th>\n",
              "      <th>Gender</th>\n",
              "      <th>Item Purchased</th>\n",
              "      <th>Category</th>\n",
              "      <th>Purchase Amount (USD)</th>\n",
              "      <th>Location</th>\n",
              "      <th>Size</th>\n",
              "      <th>Color</th>\n",
              "      <th>Season</th>\n",
              "      <th>Review Rating</th>\n",
              "      <th>Subscription Status</th>\n",
              "      <th>Payment Method</th>\n",
              "      <th>Shipping Type</th>\n",
              "      <th>Discount Applied</th>\n",
              "      <th>Promo Code Used</th>\n",
              "      <th>Previous Purchases</th>\n",
              "      <th>Preferred Payment Method</th>\n",
              "      <th>Frequency of Purchases</th>\n",
              "      <th>High Value Customer</th>\n",
              "    </tr>\n",
              "  </thead>\n",
              "  <tbody>\n",
              "    <tr>\n",
              "      <th>0</th>\n",
              "      <td>1</td>\n",
              "      <td>55</td>\n",
              "      <td>Male</td>\n",
              "      <td>Blouse</td>\n",
              "      <td>Clothing</td>\n",
              "      <td>53.0</td>\n",
              "      <td>Kentucky</td>\n",
              "      <td>L</td>\n",
              "      <td>Gray</td>\n",
              "      <td>Winter</td>\n",
              "      <td>3.1</td>\n",
              "      <td>1</td>\n",
              "      <td>Credit Card</td>\n",
              "      <td>Express</td>\n",
              "      <td>1</td>\n",
              "      <td>1</td>\n",
              "      <td>14</td>\n",
              "      <td>Venmo</td>\n",
              "      <td>Fortnightly</td>\n",
              "      <td>No</td>\n",
              "    </tr>\n",
              "    <tr>\n",
              "      <th>1</th>\n",
              "      <td>2</td>\n",
              "      <td>19</td>\n",
              "      <td>Male</td>\n",
              "      <td>Sweater</td>\n",
              "      <td>Clothing</td>\n",
              "      <td>64.0</td>\n",
              "      <td>Maine</td>\n",
              "      <td>L</td>\n",
              "      <td>Maroon</td>\n",
              "      <td>Winter</td>\n",
              "      <td>3.1</td>\n",
              "      <td>1</td>\n",
              "      <td>Bank Transfer</td>\n",
              "      <td>Express</td>\n",
              "      <td>1</td>\n",
              "      <td>1</td>\n",
              "      <td>2</td>\n",
              "      <td>Cash</td>\n",
              "      <td>Fortnightly</td>\n",
              "      <td>No</td>\n",
              "    </tr>\n",
              "    <tr>\n",
              "      <th>2</th>\n",
              "      <td>3</td>\n",
              "      <td>50</td>\n",
              "      <td>Male</td>\n",
              "      <td>Jeans</td>\n",
              "      <td>Clothing</td>\n",
              "      <td>73.0</td>\n",
              "      <td>Massachusetts</td>\n",
              "      <td>S</td>\n",
              "      <td>Maroon</td>\n",
              "      <td>Spring</td>\n",
              "      <td>3.1</td>\n",
              "      <td>1</td>\n",
              "      <td>Cash</td>\n",
              "      <td>Free Shipping</td>\n",
              "      <td>1</td>\n",
              "      <td>1</td>\n",
              "      <td>23</td>\n",
              "      <td>Credit Card</td>\n",
              "      <td>Weekly</td>\n",
              "      <td>No</td>\n",
              "    </tr>\n",
              "    <tr>\n",
              "      <th>3</th>\n",
              "      <td>4</td>\n",
              "      <td>21</td>\n",
              "      <td>Male</td>\n",
              "      <td>Sandals</td>\n",
              "      <td>Footwear</td>\n",
              "      <td>90.0</td>\n",
              "      <td>Rhode Island</td>\n",
              "      <td>M</td>\n",
              "      <td>Maroon</td>\n",
              "      <td>Spring</td>\n",
              "      <td>3.5</td>\n",
              "      <td>1</td>\n",
              "      <td>PayPal</td>\n",
              "      <td>Next Day Air</td>\n",
              "      <td>1</td>\n",
              "      <td>1</td>\n",
              "      <td>49</td>\n",
              "      <td>PayPal</td>\n",
              "      <td>Weekly</td>\n",
              "      <td>Yes</td>\n",
              "    </tr>\n",
              "    <tr>\n",
              "      <th>4</th>\n",
              "      <td>5</td>\n",
              "      <td>45</td>\n",
              "      <td>Male</td>\n",
              "      <td>Blouse</td>\n",
              "      <td>Clothing</td>\n",
              "      <td>49.0</td>\n",
              "      <td>Oregon</td>\n",
              "      <td>M</td>\n",
              "      <td>Turquoise</td>\n",
              "      <td>Spring</td>\n",
              "      <td>2.7</td>\n",
              "      <td>1</td>\n",
              "      <td>Cash</td>\n",
              "      <td>Free Shipping</td>\n",
              "      <td>1</td>\n",
              "      <td>1</td>\n",
              "      <td>31</td>\n",
              "      <td>PayPal</td>\n",
              "      <td>Annually</td>\n",
              "      <td>No</td>\n",
              "    </tr>\n",
              "    <tr>\n",
              "      <th>5</th>\n",
              "      <td>6</td>\n",
              "      <td>46</td>\n",
              "      <td>Male</td>\n",
              "      <td>Sneakers</td>\n",
              "      <td>Footwear</td>\n",
              "      <td>20.0</td>\n",
              "      <td>Wyoming</td>\n",
              "      <td>M</td>\n",
              "      <td>White</td>\n",
              "      <td>Summer</td>\n",
              "      <td>2.9</td>\n",
              "      <td>1</td>\n",
              "      <td>Venmo</td>\n",
              "      <td>Standard</td>\n",
              "      <td>1</td>\n",
              "      <td>1</td>\n",
              "      <td>14</td>\n",
              "      <td>Venmo</td>\n",
              "      <td>Weekly</td>\n",
              "      <td>No</td>\n",
              "    </tr>\n",
              "    <tr>\n",
              "      <th>6</th>\n",
              "      <td>7</td>\n",
              "      <td>63</td>\n",
              "      <td>Male</td>\n",
              "      <td>Shirt</td>\n",
              "      <td>Clothing</td>\n",
              "      <td>85.0</td>\n",
              "      <td>Montana</td>\n",
              "      <td>M</td>\n",
              "      <td>Gray</td>\n",
              "      <td>Fall</td>\n",
              "      <td>3.2</td>\n",
              "      <td>1</td>\n",
              "      <td>Debit Card</td>\n",
              "      <td>Free Shipping</td>\n",
              "      <td>1</td>\n",
              "      <td>1</td>\n",
              "      <td>49</td>\n",
              "      <td>Cash</td>\n",
              "      <td>Quarterly</td>\n",
              "      <td>Yes</td>\n",
              "    </tr>\n",
              "    <tr>\n",
              "      <th>7</th>\n",
              "      <td>8</td>\n",
              "      <td>27</td>\n",
              "      <td>Male</td>\n",
              "      <td>Shorts</td>\n",
              "      <td>Clothing</td>\n",
              "      <td>34.0</td>\n",
              "      <td>Louisiana</td>\n",
              "      <td>L</td>\n",
              "      <td>Charcoal</td>\n",
              "      <td>Winter</td>\n",
              "      <td>3.2</td>\n",
              "      <td>1</td>\n",
              "      <td>Debit Card</td>\n",
              "      <td>Free Shipping</td>\n",
              "      <td>1</td>\n",
              "      <td>1</td>\n",
              "      <td>19</td>\n",
              "      <td>Credit Card</td>\n",
              "      <td>Weekly</td>\n",
              "      <td>No</td>\n",
              "    </tr>\n",
              "    <tr>\n",
              "      <th>8</th>\n",
              "      <td>9</td>\n",
              "      <td>26</td>\n",
              "      <td>Male</td>\n",
              "      <td>Coat</td>\n",
              "      <td>Outerwear</td>\n",
              "      <td>97.0</td>\n",
              "      <td>West Virginia</td>\n",
              "      <td>L</td>\n",
              "      <td>Silver</td>\n",
              "      <td>Summer</td>\n",
              "      <td>2.6</td>\n",
              "      <td>1</td>\n",
              "      <td>Venmo</td>\n",
              "      <td>Express</td>\n",
              "      <td>1</td>\n",
              "      <td>1</td>\n",
              "      <td>8</td>\n",
              "      <td>Venmo</td>\n",
              "      <td>Annually</td>\n",
              "      <td>Yes</td>\n",
              "    </tr>\n",
              "    <tr>\n",
              "      <th>9</th>\n",
              "      <td>10</td>\n",
              "      <td>57</td>\n",
              "      <td>Male</td>\n",
              "      <td>Handbag</td>\n",
              "      <td>Accessories</td>\n",
              "      <td>31.0</td>\n",
              "      <td>Missouri</td>\n",
              "      <td>M</td>\n",
              "      <td>Pink</td>\n",
              "      <td>Spring</td>\n",
              "      <td>4.8</td>\n",
              "      <td>1</td>\n",
              "      <td>PayPal</td>\n",
              "      <td>2-Day Shipping</td>\n",
              "      <td>1</td>\n",
              "      <td>1</td>\n",
              "      <td>4</td>\n",
              "      <td>Cash</td>\n",
              "      <td>Quarterly</td>\n",
              "      <td>No</td>\n",
              "    </tr>\n",
              "  </tbody>\n",
              "</table>\n",
              "</div>\n",
              "    <div class=\"colab-df-buttons\">\n",
              "\n",
              "  <div class=\"colab-df-container\">\n",
              "    <button class=\"colab-df-convert\" onclick=\"convertToInteractive('df-d5476f41-e7da-40fc-9e2d-aee7a5e2365d')\"\n",
              "            title=\"Convert this dataframe to an interactive table.\"\n",
              "            style=\"display:none;\">\n",
              "\n",
              "  <svg xmlns=\"http://www.w3.org/2000/svg\" height=\"24px\" viewBox=\"0 -960 960 960\">\n",
              "    <path d=\"M120-120v-720h720v720H120Zm60-500h600v-160H180v160Zm220 220h160v-160H400v160Zm0 220h160v-160H400v160ZM180-400h160v-160H180v160Zm440 0h160v-160H620v160ZM180-180h160v-160H180v160Zm440 0h160v-160H620v160Z\"/>\n",
              "  </svg>\n",
              "    </button>\n",
              "\n",
              "  <style>\n",
              "    .colab-df-container {\n",
              "      display:flex;\n",
              "      gap: 12px;\n",
              "    }\n",
              "\n",
              "    .colab-df-convert {\n",
              "      background-color: #E8F0FE;\n",
              "      border: none;\n",
              "      border-radius: 50%;\n",
              "      cursor: pointer;\n",
              "      display: none;\n",
              "      fill: #1967D2;\n",
              "      height: 32px;\n",
              "      padding: 0 0 0 0;\n",
              "      width: 32px;\n",
              "    }\n",
              "\n",
              "    .colab-df-convert:hover {\n",
              "      background-color: #E2EBFA;\n",
              "      box-shadow: 0px 1px 2px rgba(60, 64, 67, 0.3), 0px 1px 3px 1px rgba(60, 64, 67, 0.15);\n",
              "      fill: #174EA6;\n",
              "    }\n",
              "\n",
              "    .colab-df-buttons div {\n",
              "      margin-bottom: 4px;\n",
              "    }\n",
              "\n",
              "    [theme=dark] .colab-df-convert {\n",
              "      background-color: #3B4455;\n",
              "      fill: #D2E3FC;\n",
              "    }\n",
              "\n",
              "    [theme=dark] .colab-df-convert:hover {\n",
              "      background-color: #434B5C;\n",
              "      box-shadow: 0px 1px 3px 1px rgba(0, 0, 0, 0.15);\n",
              "      filter: drop-shadow(0px 1px 2px rgba(0, 0, 0, 0.3));\n",
              "      fill: #FFFFFF;\n",
              "    }\n",
              "  </style>\n",
              "\n",
              "    <script>\n",
              "      const buttonEl =\n",
              "        document.querySelector('#df-d5476f41-e7da-40fc-9e2d-aee7a5e2365d button.colab-df-convert');\n",
              "      buttonEl.style.display =\n",
              "        google.colab.kernel.accessAllowed ? 'block' : 'none';\n",
              "\n",
              "      async function convertToInteractive(key) {\n",
              "        const element = document.querySelector('#df-d5476f41-e7da-40fc-9e2d-aee7a5e2365d');\n",
              "        const dataTable =\n",
              "          await google.colab.kernel.invokeFunction('convertToInteractive',\n",
              "                                                    [key], {});\n",
              "        if (!dataTable) return;\n",
              "\n",
              "        const docLinkHtml = 'Like what you see? Visit the ' +\n",
              "          '<a target=\"_blank\" href=https://colab.research.google.com/notebooks/data_table.ipynb>data table notebook</a>'\n",
              "          + ' to learn more about interactive tables.';\n",
              "        element.innerHTML = '';\n",
              "        dataTable['output_type'] = 'display_data';\n",
              "        await google.colab.output.renderOutput(dataTable, element);\n",
              "        const docLink = document.createElement('div');\n",
              "        docLink.innerHTML = docLinkHtml;\n",
              "        element.appendChild(docLink);\n",
              "      }\n",
              "    </script>\n",
              "  </div>\n",
              "\n",
              "\n",
              "<div id=\"df-facf507a-9dfd-4c9d-9a48-e03876acd3e3\">\n",
              "  <button class=\"colab-df-quickchart\" onclick=\"quickchart('df-facf507a-9dfd-4c9d-9a48-e03876acd3e3')\"\n",
              "            title=\"Suggest charts\"\n",
              "            style=\"display:none;\">\n",
              "\n",
              "<svg xmlns=\"http://www.w3.org/2000/svg\" height=\"24px\"viewBox=\"0 0 24 24\"\n",
              "     width=\"24px\">\n",
              "    <g>\n",
              "        <path d=\"M19 3H5c-1.1 0-2 .9-2 2v14c0 1.1.9 2 2 2h14c1.1 0 2-.9 2-2V5c0-1.1-.9-2-2-2zM9 17H7v-7h2v7zm4 0h-2V7h2v10zm4 0h-2v-4h2v4z\"/>\n",
              "    </g>\n",
              "</svg>\n",
              "  </button>\n",
              "\n",
              "<style>\n",
              "  .colab-df-quickchart {\n",
              "      --bg-color: #E8F0FE;\n",
              "      --fill-color: #1967D2;\n",
              "      --hover-bg-color: #E2EBFA;\n",
              "      --hover-fill-color: #174EA6;\n",
              "      --disabled-fill-color: #AAA;\n",
              "      --disabled-bg-color: #DDD;\n",
              "  }\n",
              "\n",
              "  [theme=dark] .colab-df-quickchart {\n",
              "      --bg-color: #3B4455;\n",
              "      --fill-color: #D2E3FC;\n",
              "      --hover-bg-color: #434B5C;\n",
              "      --hover-fill-color: #FFFFFF;\n",
              "      --disabled-bg-color: #3B4455;\n",
              "      --disabled-fill-color: #666;\n",
              "  }\n",
              "\n",
              "  .colab-df-quickchart {\n",
              "    background-color: var(--bg-color);\n",
              "    border: none;\n",
              "    border-radius: 50%;\n",
              "    cursor: pointer;\n",
              "    display: none;\n",
              "    fill: var(--fill-color);\n",
              "    height: 32px;\n",
              "    padding: 0;\n",
              "    width: 32px;\n",
              "  }\n",
              "\n",
              "  .colab-df-quickchart:hover {\n",
              "    background-color: var(--hover-bg-color);\n",
              "    box-shadow: 0 1px 2px rgba(60, 64, 67, 0.3), 0 1px 3px 1px rgba(60, 64, 67, 0.15);\n",
              "    fill: var(--button-hover-fill-color);\n",
              "  }\n",
              "\n",
              "  .colab-df-quickchart-complete:disabled,\n",
              "  .colab-df-quickchart-complete:disabled:hover {\n",
              "    background-color: var(--disabled-bg-color);\n",
              "    fill: var(--disabled-fill-color);\n",
              "    box-shadow: none;\n",
              "  }\n",
              "\n",
              "  .colab-df-spinner {\n",
              "    border: 2px solid var(--fill-color);\n",
              "    border-color: transparent;\n",
              "    border-bottom-color: var(--fill-color);\n",
              "    animation:\n",
              "      spin 1s steps(1) infinite;\n",
              "  }\n",
              "\n",
              "  @keyframes spin {\n",
              "    0% {\n",
              "      border-color: transparent;\n",
              "      border-bottom-color: var(--fill-color);\n",
              "      border-left-color: var(--fill-color);\n",
              "    }\n",
              "    20% {\n",
              "      border-color: transparent;\n",
              "      border-left-color: var(--fill-color);\n",
              "      border-top-color: var(--fill-color);\n",
              "    }\n",
              "    30% {\n",
              "      border-color: transparent;\n",
              "      border-left-color: var(--fill-color);\n",
              "      border-top-color: var(--fill-color);\n",
              "      border-right-color: var(--fill-color);\n",
              "    }\n",
              "    40% {\n",
              "      border-color: transparent;\n",
              "      border-right-color: var(--fill-color);\n",
              "      border-top-color: var(--fill-color);\n",
              "    }\n",
              "    60% {\n",
              "      border-color: transparent;\n",
              "      border-right-color: var(--fill-color);\n",
              "    }\n",
              "    80% {\n",
              "      border-color: transparent;\n",
              "      border-right-color: var(--fill-color);\n",
              "      border-bottom-color: var(--fill-color);\n",
              "    }\n",
              "    90% {\n",
              "      border-color: transparent;\n",
              "      border-bottom-color: var(--fill-color);\n",
              "    }\n",
              "  }\n",
              "</style>\n",
              "\n",
              "  <script>\n",
              "    async function quickchart(key) {\n",
              "      const quickchartButtonEl =\n",
              "        document.querySelector('#' + key + ' button');\n",
              "      quickchartButtonEl.disabled = true;  // To prevent multiple clicks.\n",
              "      quickchartButtonEl.classList.add('colab-df-spinner');\n",
              "      try {\n",
              "        const charts = await google.colab.kernel.invokeFunction(\n",
              "            'suggestCharts', [key], {});\n",
              "      } catch (error) {\n",
              "        console.error('Error during call to suggestCharts:', error);\n",
              "      }\n",
              "      quickchartButtonEl.classList.remove('colab-df-spinner');\n",
              "      quickchartButtonEl.classList.add('colab-df-quickchart-complete');\n",
              "    }\n",
              "    (() => {\n",
              "      let quickchartButtonEl =\n",
              "        document.querySelector('#df-facf507a-9dfd-4c9d-9a48-e03876acd3e3 button');\n",
              "      quickchartButtonEl.style.display =\n",
              "        google.colab.kernel.accessAllowed ? 'block' : 'none';\n",
              "    })();\n",
              "  </script>\n",
              "</div>\n",
              "\n",
              "    </div>\n",
              "  </div>\n"
            ],
            "application/vnd.google.colaboratory.intrinsic+json": {
              "type": "dataframe",
              "summary": "{\n  \"name\": \"processed_df\",\n  \"rows\": 10,\n  \"fields\": [\n    {\n      \"column\": \"Customer ID\",\n      \"properties\": {\n        \"dtype\": \"string\",\n        \"num_unique_values\": 10,\n        \"samples\": [\n          \"9\",\n          \"2\",\n          \"6\"\n        ],\n        \"semantic_type\": \"\",\n        \"description\": \"\"\n      }\n    },\n    {\n      \"column\": \"Age\",\n      \"properties\": {\n        \"dtype\": \"int32\",\n        \"num_unique_values\": 10,\n        \"samples\": [\n          26,\n          19,\n          46\n        ],\n        \"semantic_type\": \"\",\n        \"description\": \"\"\n      }\n    },\n    {\n      \"column\": \"Gender\",\n      \"properties\": {\n        \"dtype\": \"category\",\n        \"num_unique_values\": 1,\n        \"samples\": [\n          \"Male\"\n        ],\n        \"semantic_type\": \"\",\n        \"description\": \"\"\n      }\n    },\n    {\n      \"column\": \"Item Purchased\",\n      \"properties\": {\n        \"dtype\": \"string\",\n        \"num_unique_values\": 9,\n        \"samples\": [\n          \"Coat\"\n        ],\n        \"semantic_type\": \"\",\n        \"description\": \"\"\n      }\n    },\n    {\n      \"column\": \"Category\",\n      \"properties\": {\n        \"dtype\": \"category\",\n        \"num_unique_values\": 4,\n        \"samples\": [\n          \"Footwear\"\n        ],\n        \"semantic_type\": \"\",\n        \"description\": \"\"\n      }\n    },\n    {\n      \"column\": \"Purchase Amount (USD)\",\n      \"properties\": {\n        \"dtype\": \"number\",\n        \"std\": 26.592396574125384,\n        \"min\": 20.0,\n        \"max\": 97.0,\n        \"num_unique_values\": 10,\n        \"samples\": [\n          97.0\n        ],\n        \"semantic_type\": \"\",\n        \"description\": \"\"\n      }\n    },\n    {\n      \"column\": \"Location\",\n      \"properties\": {\n        \"dtype\": \"string\",\n        \"num_unique_values\": 10,\n        \"samples\": [\n          \"West Virginia\"\n        ],\n        \"semantic_type\": \"\",\n        \"description\": \"\"\n      }\n    },\n    {\n      \"column\": \"Size\",\n      \"properties\": {\n        \"dtype\": \"category\",\n        \"num_unique_values\": 3,\n        \"samples\": [\n          \"L\"\n        ],\n        \"semantic_type\": \"\",\n        \"description\": \"\"\n      }\n    },\n    {\n      \"column\": \"Color\",\n      \"properties\": {\n        \"dtype\": \"string\",\n        \"num_unique_values\": 7,\n        \"samples\": [\n          \"Gray\"\n        ],\n        \"semantic_type\": \"\",\n        \"description\": \"\"\n      }\n    },\n    {\n      \"column\": \"Season\",\n      \"properties\": {\n        \"dtype\": \"category\",\n        \"num_unique_values\": 4,\n        \"samples\": [\n          \"Spring\"\n        ],\n        \"semantic_type\": \"\",\n        \"description\": \"\"\n      }\n    },\n    {\n      \"column\": \"Review Rating\",\n      \"properties\": {\n        \"dtype\": \"number\",\n        \"std\": 0.6124631508189787,\n        \"min\": 2.6,\n        \"max\": 4.8,\n        \"num_unique_values\": 7,\n        \"samples\": [\n          3.1\n        ],\n        \"semantic_type\": \"\",\n        \"description\": \"\"\n      }\n    },\n    {\n      \"column\": \"Subscription Status\",\n      \"properties\": {\n        \"dtype\": \"int32\",\n        \"num_unique_values\": 1,\n        \"samples\": [\n          1\n        ],\n        \"semantic_type\": \"\",\n        \"description\": \"\"\n      }\n    },\n    {\n      \"column\": \"Payment Method\",\n      \"properties\": {\n        \"dtype\": \"string\",\n        \"num_unique_values\": 6,\n        \"samples\": [\n          \"Credit Card\"\n        ],\n        \"semantic_type\": \"\",\n        \"description\": \"\"\n      }\n    },\n    {\n      \"column\": \"Shipping Type\",\n      \"properties\": {\n        \"dtype\": \"string\",\n        \"num_unique_values\": 5,\n        \"samples\": [\n          \"Free Shipping\"\n        ],\n        \"semantic_type\": \"\",\n        \"description\": \"\"\n      }\n    },\n    {\n      \"column\": \"Discount Applied\",\n      \"properties\": {\n        \"dtype\": \"int32\",\n        \"num_unique_values\": 1,\n        \"samples\": [\n          1\n        ],\n        \"semantic_type\": \"\",\n        \"description\": \"\"\n      }\n    },\n    {\n      \"column\": \"Promo Code Used\",\n      \"properties\": {\n        \"dtype\": \"int32\",\n        \"num_unique_values\": 1,\n        \"samples\": [\n          1\n        ],\n        \"semantic_type\": \"\",\n        \"description\": \"\"\n      }\n    },\n    {\n      \"column\": \"Previous Purchases\",\n      \"properties\": {\n        \"dtype\": \"int32\",\n        \"num_unique_values\": 8,\n        \"samples\": [\n          2\n        ],\n        \"semantic_type\": \"\",\n        \"description\": \"\"\n      }\n    },\n    {\n      \"column\": \"Preferred Payment Method\",\n      \"properties\": {\n        \"dtype\": \"category\",\n        \"num_unique_values\": 4,\n        \"samples\": [\n          \"Cash\"\n        ],\n        \"semantic_type\": \"\",\n        \"description\": \"\"\n      }\n    },\n    {\n      \"column\": \"Frequency of Purchases\",\n      \"properties\": {\n        \"dtype\": \"category\",\n        \"num_unique_values\": 4,\n        \"samples\": [\n          \"Weekly\"\n        ],\n        \"semantic_type\": \"\",\n        \"description\": \"\"\n      }\n    },\n    {\n      \"column\": \"High Value Customer\",\n      \"properties\": {\n        \"dtype\": \"category\",\n        \"num_unique_values\": 2,\n        \"samples\": [\n          \"Yes\"\n        ],\n        \"semantic_type\": \"\",\n        \"description\": \"\"\n      }\n    }\n  ]\n}"
            }
          },
          "metadata": {},
          "execution_count": 51
        }
      ],
      "source": [
        "processed_df.limit(10).toPandas()"
      ]
    },
    {
      "cell_type": "markdown",
      "source": [
        "## **Handling Missing Values**  \n",
        "\n",
        "To ensure data completeness, we compute the number of missing values in each column."
      ],
      "metadata": {
        "id": "aJl39DRy2oUW"
      }
    },
    {
      "cell_type": "code",
      "execution_count": 52,
      "metadata": {
        "colab": {
          "base_uri": "https://localhost:8080/",
          "height": 153
        },
        "id": "SXodkuQ70tAE",
        "outputId": "0297224d-336c-48c4-a720-881628d9962e"
      },
      "outputs": [
        {
          "output_type": "stream",
          "name": "stdout",
          "text": [
            "✅ Missing Values per Column:\n"
          ]
        },
        {
          "output_type": "execute_result",
          "data": {
            "text/plain": [
              "   Customer ID  Age  Gender  Item Purchased  Category  Purchase Amount (USD)  \\\n",
              "0            0    0       0               0         0                      0   \n",
              "\n",
              "   Location  Size  Color  Season  Review Rating  Subscription Status  \\\n",
              "0         0     0      0       0              0                    0   \n",
              "\n",
              "   Payment Method  Shipping Type  Discount Applied  Promo Code Used  \\\n",
              "0               0              0                 0                0   \n",
              "\n",
              "   Previous Purchases  Preferred Payment Method  Frequency of Purchases  \\\n",
              "0                   0                         0                       0   \n",
              "\n",
              "   High Value Customer  \n",
              "0                    0  "
            ],
            "text/html": [
              "\n",
              "  <div id=\"df-4970f0fb-05ce-4fd0-bd68-48c030f8d8ae\" class=\"colab-df-container\">\n",
              "    <div>\n",
              "<style scoped>\n",
              "    .dataframe tbody tr th:only-of-type {\n",
              "        vertical-align: middle;\n",
              "    }\n",
              "\n",
              "    .dataframe tbody tr th {\n",
              "        vertical-align: top;\n",
              "    }\n",
              "\n",
              "    .dataframe thead th {\n",
              "        text-align: right;\n",
              "    }\n",
              "</style>\n",
              "<table border=\"1\" class=\"dataframe\">\n",
              "  <thead>\n",
              "    <tr style=\"text-align: right;\">\n",
              "      <th></th>\n",
              "      <th>Customer ID</th>\n",
              "      <th>Age</th>\n",
              "      <th>Gender</th>\n",
              "      <th>Item Purchased</th>\n",
              "      <th>Category</th>\n",
              "      <th>Purchase Amount (USD)</th>\n",
              "      <th>Location</th>\n",
              "      <th>Size</th>\n",
              "      <th>Color</th>\n",
              "      <th>Season</th>\n",
              "      <th>Review Rating</th>\n",
              "      <th>Subscription Status</th>\n",
              "      <th>Payment Method</th>\n",
              "      <th>Shipping Type</th>\n",
              "      <th>Discount Applied</th>\n",
              "      <th>Promo Code Used</th>\n",
              "      <th>Previous Purchases</th>\n",
              "      <th>Preferred Payment Method</th>\n",
              "      <th>Frequency of Purchases</th>\n",
              "      <th>High Value Customer</th>\n",
              "    </tr>\n",
              "  </thead>\n",
              "  <tbody>\n",
              "    <tr>\n",
              "      <th>0</th>\n",
              "      <td>0</td>\n",
              "      <td>0</td>\n",
              "      <td>0</td>\n",
              "      <td>0</td>\n",
              "      <td>0</td>\n",
              "      <td>0</td>\n",
              "      <td>0</td>\n",
              "      <td>0</td>\n",
              "      <td>0</td>\n",
              "      <td>0</td>\n",
              "      <td>0</td>\n",
              "      <td>0</td>\n",
              "      <td>0</td>\n",
              "      <td>0</td>\n",
              "      <td>0</td>\n",
              "      <td>0</td>\n",
              "      <td>0</td>\n",
              "      <td>0</td>\n",
              "      <td>0</td>\n",
              "      <td>0</td>\n",
              "    </tr>\n",
              "  </tbody>\n",
              "</table>\n",
              "</div>\n",
              "    <div class=\"colab-df-buttons\">\n",
              "\n",
              "  <div class=\"colab-df-container\">\n",
              "    <button class=\"colab-df-convert\" onclick=\"convertToInteractive('df-4970f0fb-05ce-4fd0-bd68-48c030f8d8ae')\"\n",
              "            title=\"Convert this dataframe to an interactive table.\"\n",
              "            style=\"display:none;\">\n",
              "\n",
              "  <svg xmlns=\"http://www.w3.org/2000/svg\" height=\"24px\" viewBox=\"0 -960 960 960\">\n",
              "    <path d=\"M120-120v-720h720v720H120Zm60-500h600v-160H180v160Zm220 220h160v-160H400v160Zm0 220h160v-160H400v160ZM180-400h160v-160H180v160Zm440 0h160v-160H620v160ZM180-180h160v-160H180v160Zm440 0h160v-160H620v160Z\"/>\n",
              "  </svg>\n",
              "    </button>\n",
              "\n",
              "  <style>\n",
              "    .colab-df-container {\n",
              "      display:flex;\n",
              "      gap: 12px;\n",
              "    }\n",
              "\n",
              "    .colab-df-convert {\n",
              "      background-color: #E8F0FE;\n",
              "      border: none;\n",
              "      border-radius: 50%;\n",
              "      cursor: pointer;\n",
              "      display: none;\n",
              "      fill: #1967D2;\n",
              "      height: 32px;\n",
              "      padding: 0 0 0 0;\n",
              "      width: 32px;\n",
              "    }\n",
              "\n",
              "    .colab-df-convert:hover {\n",
              "      background-color: #E2EBFA;\n",
              "      box-shadow: 0px 1px 2px rgba(60, 64, 67, 0.3), 0px 1px 3px 1px rgba(60, 64, 67, 0.15);\n",
              "      fill: #174EA6;\n",
              "    }\n",
              "\n",
              "    .colab-df-buttons div {\n",
              "      margin-bottom: 4px;\n",
              "    }\n",
              "\n",
              "    [theme=dark] .colab-df-convert {\n",
              "      background-color: #3B4455;\n",
              "      fill: #D2E3FC;\n",
              "    }\n",
              "\n",
              "    [theme=dark] .colab-df-convert:hover {\n",
              "      background-color: #434B5C;\n",
              "      box-shadow: 0px 1px 3px 1px rgba(0, 0, 0, 0.15);\n",
              "      filter: drop-shadow(0px 1px 2px rgba(0, 0, 0, 0.3));\n",
              "      fill: #FFFFFF;\n",
              "    }\n",
              "  </style>\n",
              "\n",
              "    <script>\n",
              "      const buttonEl =\n",
              "        document.querySelector('#df-4970f0fb-05ce-4fd0-bd68-48c030f8d8ae button.colab-df-convert');\n",
              "      buttonEl.style.display =\n",
              "        google.colab.kernel.accessAllowed ? 'block' : 'none';\n",
              "\n",
              "      async function convertToInteractive(key) {\n",
              "        const element = document.querySelector('#df-4970f0fb-05ce-4fd0-bd68-48c030f8d8ae');\n",
              "        const dataTable =\n",
              "          await google.colab.kernel.invokeFunction('convertToInteractive',\n",
              "                                                    [key], {});\n",
              "        if (!dataTable) return;\n",
              "\n",
              "        const docLinkHtml = 'Like what you see? Visit the ' +\n",
              "          '<a target=\"_blank\" href=https://colab.research.google.com/notebooks/data_table.ipynb>data table notebook</a>'\n",
              "          + ' to learn more about interactive tables.';\n",
              "        element.innerHTML = '';\n",
              "        dataTable['output_type'] = 'display_data';\n",
              "        await google.colab.output.renderOutput(dataTable, element);\n",
              "        const docLink = document.createElement('div');\n",
              "        docLink.innerHTML = docLinkHtml;\n",
              "        element.appendChild(docLink);\n",
              "      }\n",
              "    </script>\n",
              "  </div>\n",
              "\n",
              "\n",
              "    </div>\n",
              "  </div>\n"
            ],
            "application/vnd.google.colaboratory.intrinsic+json": {
              "type": "dataframe",
              "summary": "{\n  \"name\": \"missing_values\",\n  \"rows\": 1,\n  \"fields\": [\n    {\n      \"column\": \"Customer ID\",\n      \"properties\": {\n        \"dtype\": \"number\",\n        \"std\": null,\n        \"min\": 0,\n        \"max\": 0,\n        \"num_unique_values\": 1,\n        \"samples\": [\n          0\n        ],\n        \"semantic_type\": \"\",\n        \"description\": \"\"\n      }\n    },\n    {\n      \"column\": \"Age\",\n      \"properties\": {\n        \"dtype\": \"number\",\n        \"std\": null,\n        \"min\": 0,\n        \"max\": 0,\n        \"num_unique_values\": 1,\n        \"samples\": [\n          0\n        ],\n        \"semantic_type\": \"\",\n        \"description\": \"\"\n      }\n    },\n    {\n      \"column\": \"Gender\",\n      \"properties\": {\n        \"dtype\": \"number\",\n        \"std\": null,\n        \"min\": 0,\n        \"max\": 0,\n        \"num_unique_values\": 1,\n        \"samples\": [\n          0\n        ],\n        \"semantic_type\": \"\",\n        \"description\": \"\"\n      }\n    },\n    {\n      \"column\": \"Item Purchased\",\n      \"properties\": {\n        \"dtype\": \"number\",\n        \"std\": null,\n        \"min\": 0,\n        \"max\": 0,\n        \"num_unique_values\": 1,\n        \"samples\": [\n          0\n        ],\n        \"semantic_type\": \"\",\n        \"description\": \"\"\n      }\n    },\n    {\n      \"column\": \"Category\",\n      \"properties\": {\n        \"dtype\": \"number\",\n        \"std\": null,\n        \"min\": 0,\n        \"max\": 0,\n        \"num_unique_values\": 1,\n        \"samples\": [\n          0\n        ],\n        \"semantic_type\": \"\",\n        \"description\": \"\"\n      }\n    },\n    {\n      \"column\": \"Purchase Amount (USD)\",\n      \"properties\": {\n        \"dtype\": \"number\",\n        \"std\": null,\n        \"min\": 0,\n        \"max\": 0,\n        \"num_unique_values\": 1,\n        \"samples\": [\n          0\n        ],\n        \"semantic_type\": \"\",\n        \"description\": \"\"\n      }\n    },\n    {\n      \"column\": \"Location\",\n      \"properties\": {\n        \"dtype\": \"number\",\n        \"std\": null,\n        \"min\": 0,\n        \"max\": 0,\n        \"num_unique_values\": 1,\n        \"samples\": [\n          0\n        ],\n        \"semantic_type\": \"\",\n        \"description\": \"\"\n      }\n    },\n    {\n      \"column\": \"Size\",\n      \"properties\": {\n        \"dtype\": \"number\",\n        \"std\": null,\n        \"min\": 0,\n        \"max\": 0,\n        \"num_unique_values\": 1,\n        \"samples\": [\n          0\n        ],\n        \"semantic_type\": \"\",\n        \"description\": \"\"\n      }\n    },\n    {\n      \"column\": \"Color\",\n      \"properties\": {\n        \"dtype\": \"number\",\n        \"std\": null,\n        \"min\": 0,\n        \"max\": 0,\n        \"num_unique_values\": 1,\n        \"samples\": [\n          0\n        ],\n        \"semantic_type\": \"\",\n        \"description\": \"\"\n      }\n    },\n    {\n      \"column\": \"Season\",\n      \"properties\": {\n        \"dtype\": \"number\",\n        \"std\": null,\n        \"min\": 0,\n        \"max\": 0,\n        \"num_unique_values\": 1,\n        \"samples\": [\n          0\n        ],\n        \"semantic_type\": \"\",\n        \"description\": \"\"\n      }\n    },\n    {\n      \"column\": \"Review Rating\",\n      \"properties\": {\n        \"dtype\": \"number\",\n        \"std\": null,\n        \"min\": 0,\n        \"max\": 0,\n        \"num_unique_values\": 1,\n        \"samples\": [\n          0\n        ],\n        \"semantic_type\": \"\",\n        \"description\": \"\"\n      }\n    },\n    {\n      \"column\": \"Subscription Status\",\n      \"properties\": {\n        \"dtype\": \"number\",\n        \"std\": null,\n        \"min\": 0,\n        \"max\": 0,\n        \"num_unique_values\": 1,\n        \"samples\": [\n          0\n        ],\n        \"semantic_type\": \"\",\n        \"description\": \"\"\n      }\n    },\n    {\n      \"column\": \"Payment Method\",\n      \"properties\": {\n        \"dtype\": \"number\",\n        \"std\": null,\n        \"min\": 0,\n        \"max\": 0,\n        \"num_unique_values\": 1,\n        \"samples\": [\n          0\n        ],\n        \"semantic_type\": \"\",\n        \"description\": \"\"\n      }\n    },\n    {\n      \"column\": \"Shipping Type\",\n      \"properties\": {\n        \"dtype\": \"number\",\n        \"std\": null,\n        \"min\": 0,\n        \"max\": 0,\n        \"num_unique_values\": 1,\n        \"samples\": [\n          0\n        ],\n        \"semantic_type\": \"\",\n        \"description\": \"\"\n      }\n    },\n    {\n      \"column\": \"Discount Applied\",\n      \"properties\": {\n        \"dtype\": \"number\",\n        \"std\": null,\n        \"min\": 0,\n        \"max\": 0,\n        \"num_unique_values\": 1,\n        \"samples\": [\n          0\n        ],\n        \"semantic_type\": \"\",\n        \"description\": \"\"\n      }\n    },\n    {\n      \"column\": \"Promo Code Used\",\n      \"properties\": {\n        \"dtype\": \"number\",\n        \"std\": null,\n        \"min\": 0,\n        \"max\": 0,\n        \"num_unique_values\": 1,\n        \"samples\": [\n          0\n        ],\n        \"semantic_type\": \"\",\n        \"description\": \"\"\n      }\n    },\n    {\n      \"column\": \"Previous Purchases\",\n      \"properties\": {\n        \"dtype\": \"number\",\n        \"std\": null,\n        \"min\": 0,\n        \"max\": 0,\n        \"num_unique_values\": 1,\n        \"samples\": [\n          0\n        ],\n        \"semantic_type\": \"\",\n        \"description\": \"\"\n      }\n    },\n    {\n      \"column\": \"Preferred Payment Method\",\n      \"properties\": {\n        \"dtype\": \"number\",\n        \"std\": null,\n        \"min\": 0,\n        \"max\": 0,\n        \"num_unique_values\": 1,\n        \"samples\": [\n          0\n        ],\n        \"semantic_type\": \"\",\n        \"description\": \"\"\n      }\n    },\n    {\n      \"column\": \"Frequency of Purchases\",\n      \"properties\": {\n        \"dtype\": \"number\",\n        \"std\": null,\n        \"min\": 0,\n        \"max\": 0,\n        \"num_unique_values\": 1,\n        \"samples\": [\n          0\n        ],\n        \"semantic_type\": \"\",\n        \"description\": \"\"\n      }\n    },\n    {\n      \"column\": \"High Value Customer\",\n      \"properties\": {\n        \"dtype\": \"number\",\n        \"std\": null,\n        \"min\": 0,\n        \"max\": 0,\n        \"num_unique_values\": 1,\n        \"samples\": [\n          0\n        ],\n        \"semantic_type\": \"\",\n        \"description\": \"\"\n      }\n    }\n  ]\n}"
            }
          },
          "metadata": {},
          "execution_count": 52
        }
      ],
      "source": [
        "from pyspark.sql.functions import col, sum\n",
        "\n",
        "# Count missing values in each column\n",
        "missing_values = processed_df.select([sum(col(c).isNull().cast(\"int\")).alias(c) for c in processed_df.columns])\n",
        "print(\"✅ Missing Values per Column:\")\n",
        "missing_values.limit(1).toPandas()\n"
      ]
    },
    {
      "cell_type": "markdown",
      "source": [
        "- Uses `isNull().cast(\"int\")` to convert missing values to integers (1 for missing, 0 for present).\n",
        "- Aggregates the sum for each column to get the count of missing values.\n",
        "- Converts the result to a Pandas DataFrame for better readability."
      ],
      "metadata": {
        "id": "_8cO5o1k3PYk"
      }
    },
    {
      "cell_type": "markdown",
      "source": [
        "## **Counting Unique Values per Column**  \n",
        "\n",
        "Unique values indicate the variety of data in each column, which is essential for understanding categorical features.\n",
        "\n",
        "- `countDistinct(col(c))` counts unique values for each column.\n",
        "- Helps in identifying categorical vs. numerical variables.\n",
        "- Provides insights into feature cardinality, useful for modeling."
      ],
      "metadata": {
        "id": "b3TREi543Pm4"
      }
    },
    {
      "cell_type": "code",
      "execution_count": 53,
      "metadata": {
        "msg_id": "3566b47f-bdc3-42e1-943c-7a385c69ec36",
        "colab": {
          "base_uri": "https://localhost:8080/",
          "height": 153
        },
        "id": "FY738iSc0tAE",
        "outputId": "7f168fd0-7c59-406e-aebe-5ca891a2a271"
      },
      "outputs": [
        {
          "output_type": "stream",
          "name": "stdout",
          "text": [
            "✅ Unique Value Counts per Column:\n"
          ]
        },
        {
          "output_type": "execute_result",
          "data": {
            "text/plain": [
              "   Customer ID  Age  Gender  Item Purchased  Category  Purchase Amount (USD)  \\\n",
              "0         3900   53       2              25         4                     81   \n",
              "\n",
              "   Location  Size  Color  Season  Review Rating  Subscription Status  \\\n",
              "0        50     4     25       4             26                    2   \n",
              "\n",
              "   Payment Method  Shipping Type  Discount Applied  Promo Code Used  \\\n",
              "0               6              6                 2                2   \n",
              "\n",
              "   Previous Purchases  Preferred Payment Method  Frequency of Purchases  \\\n",
              "0                  50                         6                       7   \n",
              "\n",
              "   High Value Customer  \n",
              "0                    2  "
            ],
            "text/html": [
              "\n",
              "  <div id=\"df-9653bbd5-cc6d-4caa-971d-21b90e5dd211\" class=\"colab-df-container\">\n",
              "    <div>\n",
              "<style scoped>\n",
              "    .dataframe tbody tr th:only-of-type {\n",
              "        vertical-align: middle;\n",
              "    }\n",
              "\n",
              "    .dataframe tbody tr th {\n",
              "        vertical-align: top;\n",
              "    }\n",
              "\n",
              "    .dataframe thead th {\n",
              "        text-align: right;\n",
              "    }\n",
              "</style>\n",
              "<table border=\"1\" class=\"dataframe\">\n",
              "  <thead>\n",
              "    <tr style=\"text-align: right;\">\n",
              "      <th></th>\n",
              "      <th>Customer ID</th>\n",
              "      <th>Age</th>\n",
              "      <th>Gender</th>\n",
              "      <th>Item Purchased</th>\n",
              "      <th>Category</th>\n",
              "      <th>Purchase Amount (USD)</th>\n",
              "      <th>Location</th>\n",
              "      <th>Size</th>\n",
              "      <th>Color</th>\n",
              "      <th>Season</th>\n",
              "      <th>Review Rating</th>\n",
              "      <th>Subscription Status</th>\n",
              "      <th>Payment Method</th>\n",
              "      <th>Shipping Type</th>\n",
              "      <th>Discount Applied</th>\n",
              "      <th>Promo Code Used</th>\n",
              "      <th>Previous Purchases</th>\n",
              "      <th>Preferred Payment Method</th>\n",
              "      <th>Frequency of Purchases</th>\n",
              "      <th>High Value Customer</th>\n",
              "    </tr>\n",
              "  </thead>\n",
              "  <tbody>\n",
              "    <tr>\n",
              "      <th>0</th>\n",
              "      <td>3900</td>\n",
              "      <td>53</td>\n",
              "      <td>2</td>\n",
              "      <td>25</td>\n",
              "      <td>4</td>\n",
              "      <td>81</td>\n",
              "      <td>50</td>\n",
              "      <td>4</td>\n",
              "      <td>25</td>\n",
              "      <td>4</td>\n",
              "      <td>26</td>\n",
              "      <td>2</td>\n",
              "      <td>6</td>\n",
              "      <td>6</td>\n",
              "      <td>2</td>\n",
              "      <td>2</td>\n",
              "      <td>50</td>\n",
              "      <td>6</td>\n",
              "      <td>7</td>\n",
              "      <td>2</td>\n",
              "    </tr>\n",
              "  </tbody>\n",
              "</table>\n",
              "</div>\n",
              "    <div class=\"colab-df-buttons\">\n",
              "\n",
              "  <div class=\"colab-df-container\">\n",
              "    <button class=\"colab-df-convert\" onclick=\"convertToInteractive('df-9653bbd5-cc6d-4caa-971d-21b90e5dd211')\"\n",
              "            title=\"Convert this dataframe to an interactive table.\"\n",
              "            style=\"display:none;\">\n",
              "\n",
              "  <svg xmlns=\"http://www.w3.org/2000/svg\" height=\"24px\" viewBox=\"0 -960 960 960\">\n",
              "    <path d=\"M120-120v-720h720v720H120Zm60-500h600v-160H180v160Zm220 220h160v-160H400v160Zm0 220h160v-160H400v160ZM180-400h160v-160H180v160Zm440 0h160v-160H620v160ZM180-180h160v-160H180v160Zm440 0h160v-160H620v160Z\"/>\n",
              "  </svg>\n",
              "    </button>\n",
              "\n",
              "  <style>\n",
              "    .colab-df-container {\n",
              "      display:flex;\n",
              "      gap: 12px;\n",
              "    }\n",
              "\n",
              "    .colab-df-convert {\n",
              "      background-color: #E8F0FE;\n",
              "      border: none;\n",
              "      border-radius: 50%;\n",
              "      cursor: pointer;\n",
              "      display: none;\n",
              "      fill: #1967D2;\n",
              "      height: 32px;\n",
              "      padding: 0 0 0 0;\n",
              "      width: 32px;\n",
              "    }\n",
              "\n",
              "    .colab-df-convert:hover {\n",
              "      background-color: #E2EBFA;\n",
              "      box-shadow: 0px 1px 2px rgba(60, 64, 67, 0.3), 0px 1px 3px 1px rgba(60, 64, 67, 0.15);\n",
              "      fill: #174EA6;\n",
              "    }\n",
              "\n",
              "    .colab-df-buttons div {\n",
              "      margin-bottom: 4px;\n",
              "    }\n",
              "\n",
              "    [theme=dark] .colab-df-convert {\n",
              "      background-color: #3B4455;\n",
              "      fill: #D2E3FC;\n",
              "    }\n",
              "\n",
              "    [theme=dark] .colab-df-convert:hover {\n",
              "      background-color: #434B5C;\n",
              "      box-shadow: 0px 1px 3px 1px rgba(0, 0, 0, 0.15);\n",
              "      filter: drop-shadow(0px 1px 2px rgba(0, 0, 0, 0.3));\n",
              "      fill: #FFFFFF;\n",
              "    }\n",
              "  </style>\n",
              "\n",
              "    <script>\n",
              "      const buttonEl =\n",
              "        document.querySelector('#df-9653bbd5-cc6d-4caa-971d-21b90e5dd211 button.colab-df-convert');\n",
              "      buttonEl.style.display =\n",
              "        google.colab.kernel.accessAllowed ? 'block' : 'none';\n",
              "\n",
              "      async function convertToInteractive(key) {\n",
              "        const element = document.querySelector('#df-9653bbd5-cc6d-4caa-971d-21b90e5dd211');\n",
              "        const dataTable =\n",
              "          await google.colab.kernel.invokeFunction('convertToInteractive',\n",
              "                                                    [key], {});\n",
              "        if (!dataTable) return;\n",
              "\n",
              "        const docLinkHtml = 'Like what you see? Visit the ' +\n",
              "          '<a target=\"_blank\" href=https://colab.research.google.com/notebooks/data_table.ipynb>data table notebook</a>'\n",
              "          + ' to learn more about interactive tables.';\n",
              "        element.innerHTML = '';\n",
              "        dataTable['output_type'] = 'display_data';\n",
              "        await google.colab.output.renderOutput(dataTable, element);\n",
              "        const docLink = document.createElement('div');\n",
              "        docLink.innerHTML = docLinkHtml;\n",
              "        element.appendChild(docLink);\n",
              "      }\n",
              "    </script>\n",
              "  </div>\n",
              "\n",
              "\n",
              "    </div>\n",
              "  </div>\n"
            ],
            "application/vnd.google.colaboratory.intrinsic+json": {
              "type": "dataframe",
              "summary": "{\n  \"name\": \"unique_counts\",\n  \"rows\": 1,\n  \"fields\": [\n    {\n      \"column\": \"Customer ID\",\n      \"properties\": {\n        \"dtype\": \"number\",\n        \"std\": null,\n        \"min\": 3900,\n        \"max\": 3900,\n        \"num_unique_values\": 1,\n        \"samples\": [\n          3900\n        ],\n        \"semantic_type\": \"\",\n        \"description\": \"\"\n      }\n    },\n    {\n      \"column\": \"Age\",\n      \"properties\": {\n        \"dtype\": \"number\",\n        \"std\": null,\n        \"min\": 53,\n        \"max\": 53,\n        \"num_unique_values\": 1,\n        \"samples\": [\n          53\n        ],\n        \"semantic_type\": \"\",\n        \"description\": \"\"\n      }\n    },\n    {\n      \"column\": \"Gender\",\n      \"properties\": {\n        \"dtype\": \"number\",\n        \"std\": null,\n        \"min\": 2,\n        \"max\": 2,\n        \"num_unique_values\": 1,\n        \"samples\": [\n          2\n        ],\n        \"semantic_type\": \"\",\n        \"description\": \"\"\n      }\n    },\n    {\n      \"column\": \"Item Purchased\",\n      \"properties\": {\n        \"dtype\": \"number\",\n        \"std\": null,\n        \"min\": 25,\n        \"max\": 25,\n        \"num_unique_values\": 1,\n        \"samples\": [\n          25\n        ],\n        \"semantic_type\": \"\",\n        \"description\": \"\"\n      }\n    },\n    {\n      \"column\": \"Category\",\n      \"properties\": {\n        \"dtype\": \"number\",\n        \"std\": null,\n        \"min\": 4,\n        \"max\": 4,\n        \"num_unique_values\": 1,\n        \"samples\": [\n          4\n        ],\n        \"semantic_type\": \"\",\n        \"description\": \"\"\n      }\n    },\n    {\n      \"column\": \"Purchase Amount (USD)\",\n      \"properties\": {\n        \"dtype\": \"number\",\n        \"std\": null,\n        \"min\": 81,\n        \"max\": 81,\n        \"num_unique_values\": 1,\n        \"samples\": [\n          81\n        ],\n        \"semantic_type\": \"\",\n        \"description\": \"\"\n      }\n    },\n    {\n      \"column\": \"Location\",\n      \"properties\": {\n        \"dtype\": \"number\",\n        \"std\": null,\n        \"min\": 50,\n        \"max\": 50,\n        \"num_unique_values\": 1,\n        \"samples\": [\n          50\n        ],\n        \"semantic_type\": \"\",\n        \"description\": \"\"\n      }\n    },\n    {\n      \"column\": \"Size\",\n      \"properties\": {\n        \"dtype\": \"number\",\n        \"std\": null,\n        \"min\": 4,\n        \"max\": 4,\n        \"num_unique_values\": 1,\n        \"samples\": [\n          4\n        ],\n        \"semantic_type\": \"\",\n        \"description\": \"\"\n      }\n    },\n    {\n      \"column\": \"Color\",\n      \"properties\": {\n        \"dtype\": \"number\",\n        \"std\": null,\n        \"min\": 25,\n        \"max\": 25,\n        \"num_unique_values\": 1,\n        \"samples\": [\n          25\n        ],\n        \"semantic_type\": \"\",\n        \"description\": \"\"\n      }\n    },\n    {\n      \"column\": \"Season\",\n      \"properties\": {\n        \"dtype\": \"number\",\n        \"std\": null,\n        \"min\": 4,\n        \"max\": 4,\n        \"num_unique_values\": 1,\n        \"samples\": [\n          4\n        ],\n        \"semantic_type\": \"\",\n        \"description\": \"\"\n      }\n    },\n    {\n      \"column\": \"Review Rating\",\n      \"properties\": {\n        \"dtype\": \"number\",\n        \"std\": null,\n        \"min\": 26,\n        \"max\": 26,\n        \"num_unique_values\": 1,\n        \"samples\": [\n          26\n        ],\n        \"semantic_type\": \"\",\n        \"description\": \"\"\n      }\n    },\n    {\n      \"column\": \"Subscription Status\",\n      \"properties\": {\n        \"dtype\": \"number\",\n        \"std\": null,\n        \"min\": 2,\n        \"max\": 2,\n        \"num_unique_values\": 1,\n        \"samples\": [\n          2\n        ],\n        \"semantic_type\": \"\",\n        \"description\": \"\"\n      }\n    },\n    {\n      \"column\": \"Payment Method\",\n      \"properties\": {\n        \"dtype\": \"number\",\n        \"std\": null,\n        \"min\": 6,\n        \"max\": 6,\n        \"num_unique_values\": 1,\n        \"samples\": [\n          6\n        ],\n        \"semantic_type\": \"\",\n        \"description\": \"\"\n      }\n    },\n    {\n      \"column\": \"Shipping Type\",\n      \"properties\": {\n        \"dtype\": \"number\",\n        \"std\": null,\n        \"min\": 6,\n        \"max\": 6,\n        \"num_unique_values\": 1,\n        \"samples\": [\n          6\n        ],\n        \"semantic_type\": \"\",\n        \"description\": \"\"\n      }\n    },\n    {\n      \"column\": \"Discount Applied\",\n      \"properties\": {\n        \"dtype\": \"number\",\n        \"std\": null,\n        \"min\": 2,\n        \"max\": 2,\n        \"num_unique_values\": 1,\n        \"samples\": [\n          2\n        ],\n        \"semantic_type\": \"\",\n        \"description\": \"\"\n      }\n    },\n    {\n      \"column\": \"Promo Code Used\",\n      \"properties\": {\n        \"dtype\": \"number\",\n        \"std\": null,\n        \"min\": 2,\n        \"max\": 2,\n        \"num_unique_values\": 1,\n        \"samples\": [\n          2\n        ],\n        \"semantic_type\": \"\",\n        \"description\": \"\"\n      }\n    },\n    {\n      \"column\": \"Previous Purchases\",\n      \"properties\": {\n        \"dtype\": \"number\",\n        \"std\": null,\n        \"min\": 50,\n        \"max\": 50,\n        \"num_unique_values\": 1,\n        \"samples\": [\n          50\n        ],\n        \"semantic_type\": \"\",\n        \"description\": \"\"\n      }\n    },\n    {\n      \"column\": \"Preferred Payment Method\",\n      \"properties\": {\n        \"dtype\": \"number\",\n        \"std\": null,\n        \"min\": 6,\n        \"max\": 6,\n        \"num_unique_values\": 1,\n        \"samples\": [\n          6\n        ],\n        \"semantic_type\": \"\",\n        \"description\": \"\"\n      }\n    },\n    {\n      \"column\": \"Frequency of Purchases\",\n      \"properties\": {\n        \"dtype\": \"number\",\n        \"std\": null,\n        \"min\": 7,\n        \"max\": 7,\n        \"num_unique_values\": 1,\n        \"samples\": [\n          7\n        ],\n        \"semantic_type\": \"\",\n        \"description\": \"\"\n      }\n    },\n    {\n      \"column\": \"High Value Customer\",\n      \"properties\": {\n        \"dtype\": \"number\",\n        \"std\": null,\n        \"min\": 2,\n        \"max\": 2,\n        \"num_unique_values\": 1,\n        \"samples\": [\n          2\n        ],\n        \"semantic_type\": \"\",\n        \"description\": \"\"\n      }\n    }\n  ]\n}"
            }
          },
          "metadata": {},
          "execution_count": 53
        }
      ],
      "source": [
        "from pyspark.sql.functions import countDistinct\n",
        "\n",
        "# Count unique values for each column\n",
        "unique_counts = processed_df.select([countDistinct(col(c)).alias(c) for c in processed_df.columns])\n",
        "\n",
        "print(\"✅ Unique Value Counts per Column:\")\n",
        "unique_counts.limit(1).toPandas()\n"
      ]
    },
    {
      "cell_type": "markdown",
      "source": [
        "## **Distribution Analysis for Categorical Features**  \n",
        "\n",
        "We analyze categorical columns to understand the distribution of each feature.\n",
        "\n",
        "- Groups the data by categorical features.\n",
        "- Counts the occurrences of each unique value.\n",
        "- Helps in identifying imbalanced distributions in categorical variables.\n"
      ],
      "metadata": {
        "id": "Lt23iwDf3duP"
      }
    },
    {
      "cell_type": "code",
      "execution_count": 54,
      "metadata": {
        "msg_id": "24592251-a9a8-4d3d-8ee9-897ae413abc7",
        "colab": {
          "base_uri": "https://localhost:8080/"
        },
        "id": "TGIfboPh0tAF",
        "outputId": "0b3ad53e-16e6-4007-c7c3-2472cb8e696c"
      },
      "outputs": [
        {
          "output_type": "stream",
          "name": "stdout",
          "text": [
            "✅ Distribution for Subscription Status:\n",
            "+-------------------+-----+\n",
            "|Subscription Status|count|\n",
            "+-------------------+-----+\n",
            "|                  1| 1053|\n",
            "|                  0| 2847|\n",
            "+-------------------+-----+\n",
            "\n",
            "✅ Distribution for Discount Applied:\n",
            "+----------------+-----+\n",
            "|Discount Applied|count|\n",
            "+----------------+-----+\n",
            "|               1| 1677|\n",
            "|               0| 2223|\n",
            "+----------------+-----+\n",
            "\n",
            "✅ Distribution for Promo Code Used:\n",
            "+---------------+-----+\n",
            "|Promo Code Used|count|\n",
            "+---------------+-----+\n",
            "|              1| 1677|\n",
            "|              0| 2223|\n",
            "+---------------+-----+\n",
            "\n",
            "✅ Distribution for High Value Customer:\n",
            "+-------------------+-----+\n",
            "|High Value Customer|count|\n",
            "+-------------------+-----+\n",
            "|                 No| 2974|\n",
            "|                Yes|  926|\n",
            "+-------------------+-----+\n",
            "\n"
          ]
        }
      ],
      "source": [
        "categorical_features = [\"Subscription Status\", \"Discount Applied\", \"Promo Code Used\", \"High Value Customer\"]\n",
        "\n",
        "for col_name in categorical_features:\n",
        "    print(f\"✅ Distribution for {col_name}:\")\n",
        "    processed_df.groupBy(col_name).count().show()\n"
      ]
    },
    {
      "cell_type": "markdown",
      "source": [
        "## **Statistical Analysis of Purchase Amount**  \n",
        "\n",
        "To summarize purchasing patterns, we calculate key statistical metrics.\n",
        "\n",
        "- Computes **minimum, maximum, mean, and median** purchase amounts.\n",
        "- `percentile_approx()` is used for efficient median calculation.\n",
        "- Helps in understanding spending behavior across customers."
      ],
      "metadata": {
        "id": "KZvJgjMG3jK7"
      }
    },
    {
      "cell_type": "code",
      "execution_count": 55,
      "metadata": {
        "msg_id": "594c5149-af16-44cf-84e7-c2682ec6d328",
        "colab": {
          "base_uri": "https://localhost:8080/"
        },
        "id": "_vwmiiF20tAF",
        "outputId": "9feac68b-8fed-4dca-cb60-f6d0ebace581"
      },
      "outputs": [
        {
          "output_type": "stream",
          "name": "stdout",
          "text": [
            "✅ Purchase Amount Statistics:\n",
            "+------------+------------+-----------------+---------------+\n",
            "|Min_Purchase|Max_Purchase|    Mean_Purchase|Median_Purchase|\n",
            "+------------+------------+-----------------+---------------+\n",
            "|        20.0|       100.0|59.76435897435898|           60.0|\n",
            "+------------+------------+-----------------+---------------+\n",
            "\n"
          ]
        }
      ],
      "source": [
        "from pyspark.sql.functions import min, max, avg, percentile_approx\n",
        "\n",
        "purchase_stats = processed_df.select(\n",
        "    min(\"Purchase Amount (USD)\").alias(\"Min_Purchase\"),\n",
        "    max(\"Purchase Amount (USD)\").alias(\"Max_Purchase\"),\n",
        "    avg(\"Purchase Amount (USD)\").alias(\"Mean_Purchase\"),\n",
        "    percentile_approx(\"Purchase Amount (USD)\", 0.5).alias(\"Median_Purchase\")\n",
        ")\n",
        "\n",
        "print(\"✅ Purchase Amount Statistics:\")\n",
        "purchase_stats.show()\n"
      ]
    },
    {
      "cell_type": "markdown",
      "source": [
        "## **Detecting Outliers in Purchase Amount**  \n",
        "\n",
        "We use the Interquartile Range (IQR) method to detect potential outliers.\n",
        "\n",
        "- **Q1 & Q3**: 25th and 75th percentiles of purchase amounts.\n",
        "- **IQR (Interquartile Range)**: Q3 - Q1.\n",
        "- **Outlier Criteria**: Values below `Q1 - 1.5*IQR` or above `Q3 + 1.5*IQR` are considered outliers.\n",
        "- Helps in identifying anomalies in purchasing behavior."
      ],
      "metadata": {
        "id": "117CthlX3szA"
      }
    },
    {
      "cell_type": "code",
      "execution_count": 56,
      "metadata": {
        "msg_id": "cfa36b54-ac43-4df9-bb2e-e3538ee8adee",
        "colab": {
          "base_uri": "https://localhost:8080/"
        },
        "id": "ubMgbFjH0tAF",
        "outputId": "31113082-af32-42d5-d81b-6b5bae37663a"
      },
      "outputs": [
        {
          "output_type": "stream",
          "name": "stdout",
          "text": [
            "✅ Number of Outliers in 'Purchase Amount (USD)': 0\n"
          ]
        }
      ],
      "source": [
        "quantiles = processed_df.approxQuantile(\"Purchase Amount (USD)\", [0.25, 0.75], 0.05)\n",
        "Q1, Q3 = quantiles[0], quantiles[1]\n",
        "IQR = Q3 - Q1\n",
        "\n",
        "lower_bound = Q1 - 1.5 * IQR\n",
        "upper_bound = Q3 + 1.5 * IQR\n",
        "\n",
        "outliers = processed_df.filter(\n",
        "    (col(\"Purchase Amount (USD)\") < lower_bound) | (col(\"Purchase Amount (USD)\") > upper_bound)\n",
        ").count()\n",
        "\n",
        "print(f\"✅ Number of Outliers in 'Purchase Amount (USD)': {outliers}\")\n"
      ]
    },
    {
      "cell_type": "markdown",
      "source": [
        "## **Categorical Feature Distribution Analysis**  \n",
        "\n",
        "We analyze distributions across all categorical variables.\n",
        "\n",
        "- Groups data by each categorical column.\n",
        "- Counts occurrences of each unique value.\n",
        "- Helps in understanding category distributions, detecting class imbalances, and improving feature selection."
      ],
      "metadata": {
        "id": "BVoxEtmp3zjH"
      }
    },
    {
      "cell_type": "code",
      "execution_count": 57,
      "metadata": {
        "colab": {
          "base_uri": "https://localhost:8080/"
        },
        "id": "XOyjr8Tv0tAF",
        "outputId": "1576ebb4-3ec8-4a14-b503-6eb6d014f961"
      },
      "outputs": [
        {
          "output_type": "stream",
          "name": "stdout",
          "text": [
            "✅ Distribution for Gender:\n",
            "+------+-----+\n",
            "|Gender|count|\n",
            "+------+-----+\n",
            "|Female|1248 |\n",
            "|Male  |2652 |\n",
            "+------+-----+\n",
            "\n",
            "✅ Distribution for Item Purchased:\n",
            "+--------------+-----+\n",
            "|Item Purchased|count|\n",
            "+--------------+-----+\n",
            "|T-shirt       |147  |\n",
            "|Jacket        |163  |\n",
            "|Sneakers      |145  |\n",
            "|Belt          |161  |\n",
            "|Dress         |166  |\n",
            "|Sweater       |164  |\n",
            "|Hat           |154  |\n",
            "|Coat          |161  |\n",
            "|Sunglasses    |161  |\n",
            "|Pants         |171  |\n",
            "|Hoodie        |151  |\n",
            "|Handbag       |153  |\n",
            "|Gloves        |140  |\n",
            "|Backpack      |143  |\n",
            "|Shirt         |169  |\n",
            "|Shoes         |150  |\n",
            "|Blouse        |171  |\n",
            "|Jewelry       |171  |\n",
            "|Boots         |144  |\n",
            "|Shorts        |157  |\n",
            "+--------------+-----+\n",
            "only showing top 20 rows\n",
            "\n",
            "✅ Distribution for Category:\n",
            "+-----------+-----+\n",
            "|Category   |count|\n",
            "+-----------+-----+\n",
            "|Outerwear  |324  |\n",
            "|Clothing   |1737 |\n",
            "|Footwear   |599  |\n",
            "|Accessories|1240 |\n",
            "+-----------+-----+\n",
            "\n",
            "✅ Distribution for Location:\n",
            "+-------------+-----+\n",
            "|Location     |count|\n",
            "+-------------+-----+\n",
            "|Utah         |71   |\n",
            "|Hawaii       |65   |\n",
            "|Minnesota    |88   |\n",
            "|Ohio         |77   |\n",
            "|Oregon       |74   |\n",
            "|Arkansas     |79   |\n",
            "|Texas        |77   |\n",
            "|North Dakota |83   |\n",
            "|Pennsylvania |74   |\n",
            "|Connecticut  |78   |\n",
            "|Vermont      |85   |\n",
            "|Nebraska     |87   |\n",
            "|Nevada       |87   |\n",
            "|Washington   |73   |\n",
            "|Illinois     |92   |\n",
            "|Oklahoma     |75   |\n",
            "|Delaware     |86   |\n",
            "|Alaska       |72   |\n",
            "|New Mexico   |81   |\n",
            "|West Virginia|81   |\n",
            "+-------------+-----+\n",
            "only showing top 20 rows\n",
            "\n",
            "✅ Distribution for Size:\n",
            "+----+-----+\n",
            "|Size|count|\n",
            "+----+-----+\n",
            "|XL  |429  |\n",
            "|L   |1053 |\n",
            "|M   |1755 |\n",
            "|S   |663  |\n",
            "+----+-----+\n",
            "\n",
            "✅ Distribution for Color:\n",
            "+---------+-----+\n",
            "|Color    |count|\n",
            "+---------+-----+\n",
            "|Teal     |172  |\n",
            "|Olive    |177  |\n",
            "|Orange   |154  |\n",
            "|Peach    |149  |\n",
            "|Indigo   |147  |\n",
            "|Cyan     |166  |\n",
            "|Beige    |147  |\n",
            "|Turquoise|145  |\n",
            "|Silver   |173  |\n",
            "|Green    |169  |\n",
            "|Lavender |147  |\n",
            "|Purple   |151  |\n",
            "|Gray     |159  |\n",
            "|Blue     |152  |\n",
            "|White    |142  |\n",
            "|Brown    |141  |\n",
            "|Gold     |138  |\n",
            "|Magenta  |152  |\n",
            "|Charcoal |153  |\n",
            "|Violet   |166  |\n",
            "+---------+-----+\n",
            "only showing top 20 rows\n",
            "\n",
            "✅ Distribution for Season:\n",
            "+------+-----+\n",
            "|Season|count|\n",
            "+------+-----+\n",
            "|Spring|999  |\n",
            "|Summer|955  |\n",
            "|Fall  |975  |\n",
            "|Winter|971  |\n",
            "+------+-----+\n",
            "\n",
            "✅ Distribution for Payment Method:\n",
            "+--------------+-----+\n",
            "|Payment Method|count|\n",
            "+--------------+-----+\n",
            "|Credit Card   |696  |\n",
            "|Bank Transfer |632  |\n",
            "|PayPal        |638  |\n",
            "|Cash          |648  |\n",
            "|Debit Card    |633  |\n",
            "|Venmo         |653  |\n",
            "+--------------+-----+\n",
            "\n",
            "✅ Distribution for Shipping Type:\n",
            "+--------------+-----+\n",
            "|Shipping Type |count|\n",
            "+--------------+-----+\n",
            "|Free Shipping |675  |\n",
            "|Next Day Air  |648  |\n",
            "|Express       |646  |\n",
            "|Store Pickup  |650  |\n",
            "|2-Day Shipping|627  |\n",
            "|Standard      |654  |\n",
            "+--------------+-----+\n",
            "\n",
            "✅ Distribution for Preferred Payment Method:\n",
            "+------------------------+-----+\n",
            "|Preferred Payment Method|count|\n",
            "+------------------------+-----+\n",
            "|Credit Card             |671  |\n",
            "|Bank Transfer           |612  |\n",
            "|PayPal                  |677  |\n",
            "|Cash                    |670  |\n",
            "|Debit Card              |636  |\n",
            "|Venmo                   |634  |\n",
            "+------------------------+-----+\n",
            "\n",
            "✅ Distribution for Frequency of Purchases:\n",
            "+----------------------+-----+\n",
            "|Frequency of Purchases|count|\n",
            "+----------------------+-----+\n",
            "|Quarterly             |563  |\n",
            "|Bi-Weekly             |547  |\n",
            "|Annually              |572  |\n",
            "|Every 3 Months        |584  |\n",
            "|Monthly               |553  |\n",
            "|Fortnightly           |542  |\n",
            "|Weekly                |539  |\n",
            "+----------------------+-----+\n",
            "\n"
          ]
        }
      ],
      "source": [
        "from pyspark.sql.functions import count\n",
        "\n",
        "# Categorical columns to analyze\n",
        "categorical_cols = [\"Gender\", \"Item Purchased\", \"Category\", \"Location\", \"Size\", \"Color\",\n",
        "                    \"Season\", \"Payment Method\", \"Shipping Type\", \"Preferred Payment Method\", \"Frequency of Purchases\"]\n",
        "\n",
        "for col_name in categorical_cols:\n",
        "    print(f\"✅ Distribution for {col_name}:\")\n",
        "    processed_df.groupBy(col_name).agg(count(\"*\").alias(\"count\")).show(truncate=False)\n"
      ]
    },
    {
      "cell_type": "markdown",
      "source": [
        "## **Categorical Feature Encoding**\n",
        "To prepare categorical variables for machine learning, we use the following steps:\n",
        "1. **String Indexing**: Converts categorical values into numerical indices.\n",
        "2. **One-Hot Encoding**: Converts indexed categorical features into sparse vectors.\n",
        "3. **Pipeline Processing**: Applies transformations efficiently.\n",
        "\n",
        "After encoding, the original categorical columns are dropped.\n",
        "\n",
        "✅ **Outcome**: All categorical features are now numerically represented and ready for model training.\n"
      ],
      "metadata": {
        "id": "C7e6Ra_K7PsW"
      }
    },
    {
      "cell_type": "code",
      "execution_count": 58,
      "metadata": {
        "colab": {
          "base_uri": "https://localhost:8080/"
        },
        "id": "slC_zXBE0tAF",
        "outputId": "16d74d78-bdec-45a9-fef4-0f6df371f75b"
      },
      "outputs": [
        {
          "output_type": "stream",
          "name": "stdout",
          "text": [
            "✅ Categorical Encoding Completed!\n",
            "root\n",
            " |-- Customer ID: string (nullable = true)\n",
            " |-- Age: integer (nullable = true)\n",
            " |-- Gender: string (nullable = true)\n",
            " |-- Purchase Amount (USD): double (nullable = true)\n",
            " |-- Review Rating: double (nullable = true)\n",
            " |-- Subscription Status: integer (nullable = true)\n",
            " |-- Discount Applied: integer (nullable = true)\n",
            " |-- Promo Code Used: integer (nullable = true)\n",
            " |-- Previous Purchases: integer (nullable = true)\n",
            " |-- High Value Customer: string (nullable = true)\n",
            " |-- Item Purchased_index: double (nullable = false)\n",
            " |-- Category_index: double (nullable = false)\n",
            " |-- Location_index: double (nullable = false)\n",
            " |-- Size_index: double (nullable = false)\n",
            " |-- Color_index: double (nullable = false)\n",
            " |-- Season_index: double (nullable = false)\n",
            " |-- Payment Method_index: double (nullable = false)\n",
            " |-- Shipping Type_index: double (nullable = false)\n",
            " |-- Preferred Payment Method_index: double (nullable = false)\n",
            " |-- Frequency of Purchases_index: double (nullable = false)\n",
            " |-- Item Purchased_encoded: vector (nullable = true)\n",
            " |-- Category_encoded: vector (nullable = true)\n",
            " |-- Location_encoded: vector (nullable = true)\n",
            " |-- Size_encoded: vector (nullable = true)\n",
            " |-- Color_encoded: vector (nullable = true)\n",
            " |-- Season_encoded: vector (nullable = true)\n",
            " |-- Payment Method_encoded: vector (nullable = true)\n",
            " |-- Shipping Type_encoded: vector (nullable = true)\n",
            " |-- Preferred Payment Method_encoded: vector (nullable = true)\n",
            " |-- Frequency of Purchases_encoded: vector (nullable = true)\n",
            "\n"
          ]
        }
      ],
      "source": [
        "from pyspark.ml.feature import StringIndexer, OneHotEncoder\n",
        "from pyspark.ml import Pipeline\n",
        "\n",
        "categorical_features = [\"Item Purchased\", \"Category\", \"Location\", \"Size\", \"Color\",\n",
        "                        \"Season\", \"Payment Method\", \"Shipping Type\",\n",
        "                        \"Preferred Payment Method\", \"Frequency of Purchases\"]\n",
        "\n",
        "indexers = [StringIndexer(inputCol=col, outputCol=col+\"_index\") for col in categorical_features]\n",
        "encoders = [OneHotEncoder(inputCol=col+\"_index\", outputCol=col+\"_encoded\") for col in categorical_features]\n",
        "\n",
        "pipeline = Pipeline(stages=indexers + encoders)\n",
        "processed_df = pipeline.fit(processed_df).transform(processed_df)\n",
        "\n",
        "# Drop original categorical columns after encoding\n",
        "processed_df = processed_df.drop(*categorical_features)\n",
        "\n",
        "print(\"✅ Categorical Encoding Completed!\")\n",
        "processed_df.printSchema()\n"
      ]
    },
    {
      "cell_type": "markdown",
      "source": [
        "## **Numeric Feature Scaling**\n",
        "To normalize numeric features, we:\n",
        "1. **Assemble Numeric Features**: Combines numeric columns into a feature vector.\n",
        "2. **Min-Max Scaling**: Scales values between 0 and 1 for better model performance.\n",
        "3. **Pipeline Processing**: Ensures transformations are applied efficiently.\n",
        "\n"
      ],
      "metadata": {
        "id": "GoZvkKPs7gk-"
      }
    },
    {
      "cell_type": "code",
      "execution_count": 59,
      "metadata": {
        "colab": {
          "base_uri": "https://localhost:8080/"
        },
        "id": "GehqPG4q0tAF",
        "outputId": "df2ef103-bd2f-4da0-f65f-0ecab05ada68"
      },
      "outputs": [
        {
          "output_type": "stream",
          "name": "stdout",
          "text": [
            "✅ Numeric Feature Scaling Completed!\n",
            "root\n",
            " |-- Customer ID: string (nullable = true)\n",
            " |-- Age: integer (nullable = true)\n",
            " |-- Gender: string (nullable = true)\n",
            " |-- Subscription Status: integer (nullable = true)\n",
            " |-- Discount Applied: integer (nullable = true)\n",
            " |-- Promo Code Used: integer (nullable = true)\n",
            " |-- Previous Purchases: integer (nullable = true)\n",
            " |-- High Value Customer: string (nullable = true)\n",
            " |-- Item Purchased_index: double (nullable = false)\n",
            " |-- Category_index: double (nullable = false)\n",
            " |-- Location_index: double (nullable = false)\n",
            " |-- Size_index: double (nullable = false)\n",
            " |-- Color_index: double (nullable = false)\n",
            " |-- Season_index: double (nullable = false)\n",
            " |-- Payment Method_index: double (nullable = false)\n",
            " |-- Shipping Type_index: double (nullable = false)\n",
            " |-- Preferred Payment Method_index: double (nullable = false)\n",
            " |-- Frequency of Purchases_index: double (nullable = false)\n",
            " |-- Item Purchased_encoded: vector (nullable = true)\n",
            " |-- Category_encoded: vector (nullable = true)\n",
            " |-- Location_encoded: vector (nullable = true)\n",
            " |-- Size_encoded: vector (nullable = true)\n",
            " |-- Color_encoded: vector (nullable = true)\n",
            " |-- Season_encoded: vector (nullable = true)\n",
            " |-- Payment Method_encoded: vector (nullable = true)\n",
            " |-- Shipping Type_encoded: vector (nullable = true)\n",
            " |-- Preferred Payment Method_encoded: vector (nullable = true)\n",
            " |-- Frequency of Purchases_encoded: vector (nullable = true)\n",
            " |-- num_features: vector (nullable = true)\n",
            " |-- scaled_features: vector (nullable = true)\n",
            "\n"
          ]
        }
      ],
      "source": [
        "from pyspark.ml.feature import MinMaxScaler, VectorAssembler\n",
        "\n",
        "# Assemble numeric features for scaling\n",
        "numeric_features = [\"Purchase Amount (USD)\", \"Review Rating\"]\n",
        "assembler = VectorAssembler(inputCols=numeric_features, outputCol=\"num_features\")\n",
        "\n",
        "# Apply Min-Max Scaling\n",
        "scaler = MinMaxScaler(inputCol=\"num_features\", outputCol=\"scaled_features\")\n",
        "\n",
        "pipeline = Pipeline(stages=[assembler, scaler])\n",
        "processed_df = pipeline.fit(processed_df).transform(processed_df)\n",
        "\n",
        "# Drop original numeric columns after scaling\n",
        "processed_df = processed_df.drop(*numeric_features)\n",
        "\n",
        "print(\"✅ Numeric Feature Scaling Completed!\")\n",
        "processed_df.printSchema()\n"
      ]
    },
    {
      "cell_type": "markdown",
      "source": [
        "## **Feature Engineering & Assembly**\n",
        "1. **Feature Selection**: Combines encoded categorical and scaled numerical features.\n",
        "2. **Vector Assembling**: Merges all features into a single feature vector.\n",
        "3. **Column Cleanup**: Drops unnecessary columns after transformation.\n",
        "\n"
      ],
      "metadata": {
        "id": "iFFGIe6Q7lJ5"
      }
    },
    {
      "cell_type": "code",
      "execution_count": 60,
      "metadata": {
        "colab": {
          "base_uri": "https://localhost:8080/"
        },
        "id": "fe_SGPzv0tAG",
        "outputId": "bd074a73-18d6-4fe9-b044-554022ee6280"
      },
      "outputs": [
        {
          "output_type": "stream",
          "name": "stdout",
          "text": [
            "✅ Features Assembled & Unnecessary Columns Dropped!\n",
            "root\n",
            " |-- Age: integer (nullable = true)\n",
            " |-- Subscription Status: integer (nullable = true)\n",
            " |-- Discount Applied: integer (nullable = true)\n",
            " |-- Promo Code Used: integer (nullable = true)\n",
            " |-- Previous Purchases: integer (nullable = true)\n",
            " |-- High Value Customer: string (nullable = true)\n",
            " |-- features: vector (nullable = true)\n",
            "\n"
          ]
        }
      ],
      "source": [
        "from pyspark.ml.feature import VectorAssembler\n",
        "\n",
        "# Selecting encoded categorical & scaled numeric features\n",
        "feature_cols = [\n",
        "    \"Item Purchased_encoded\", \"Category_encoded\", \"Location_encoded\", \"Size_encoded\",\n",
        "    \"Color_encoded\", \"Season_encoded\", \"Payment Method_encoded\", \"Shipping Type_encoded\",\n",
        "    \"Preferred Payment Method_encoded\", \"Frequency of Purchases_encoded\", \"scaled_features\"\n",
        "]\n",
        "\n",
        "# Assemble all features into one vector\n",
        "feature_assembler = VectorAssembler(inputCols=feature_cols, outputCol=\"features\")\n",
        "\n",
        "# Transform data\n",
        "processed_df = feature_assembler.transform(processed_df)\n",
        "\n",
        "# Drop redundant columns\n",
        "columns_to_drop = [\n",
        "    \"Customer ID\", \"Gender\", \"Item Purchased_index\", \"Category_index\", \"Location_index\", \"Size_index\",\n",
        "    \"Color_index\", \"Season_index\", \"Payment Method_index\", \"Shipping Type_index\",\n",
        "    \"Preferred Payment Method_index\", \"Frequency of Purchases_index\",\n",
        "    \"Item Purchased_encoded\", \"Category_encoded\", \"Location_encoded\", \"Size_encoded\", \"Color_encoded\",\n",
        "    \"Season_encoded\", \"Payment Method_encoded\", \"Shipping Type_encoded\", \"Preferred Payment Method_encoded\",\n",
        "    \"Frequency of Purchases_encoded\", \"scaled_features\", \"num_features\"\n",
        "]\n",
        "\n",
        "processed_df = processed_df.drop(*columns_to_drop)\n",
        "\n",
        "print(\"✅ Features Assembled & Unnecessary Columns Dropped!\")\n",
        "processed_df.printSchema()\n"
      ]
    },
    {
      "cell_type": "markdown",
      "source": [
        "## **Import Required Libraries for Model Training & Evaluation**\n",
        "\n",
        "This cell imports essential PySpark libraries for machine learning model training, evaluation, and feature transformation.\n",
        "\n",
        "- **SparkSession**: Required for Spark DataFrame operations.\n",
        "- **StringIndexer**: Converts categorical labels into numerical indices for machine learning models.\n",
        "- **RandomForestClassifier & LogisticRegression**: Classification models for predicting high-value customers.\n",
        "- **MulticlassClassificationEvaluator & BinaryClassificationEvaluator**: Evaluators for assessing model performance using metrics such as accuracy, precision, recall, F1-score, and AUC.\n",
        "- **Pipeline**: Helps in structuring ML workflows by chaining multiple transformations and model training steps into a single execution.\n"
      ],
      "metadata": {
        "id": "UM1pdoxo8BfF"
      }
    },
    {
      "cell_type": "code",
      "execution_count": 61,
      "metadata": {
        "id": "g76CqWgO0tAG"
      },
      "outputs": [],
      "source": [
        "from pyspark.sql import SparkSession\n",
        "from pyspark.ml.feature import StringIndexer\n",
        "from pyspark.ml.classification import RandomForestClassifier, LogisticRegression\n",
        "from pyspark.ml.evaluation import MulticlassClassificationEvaluator, BinaryClassificationEvaluator\n",
        "from pyspark.ml import Pipeline\n"
      ]
    },
    {
      "cell_type": "markdown",
      "source": [
        "## **Target Variable Processing**\n",
        "1. **String Indexing**: Converts the target column (`High Value Customer`) into a numerical label.\n",
        "2. **Train-Test Split**: Splits data into 80% training and 20% testing for evaluation.\n"
      ],
      "metadata": {
        "id": "Hr9uC2aX8e0T"
      }
    },
    {
      "cell_type": "code",
      "execution_count": 62,
      "metadata": {
        "colab": {
          "base_uri": "https://localhost:8080/"
        },
        "id": "8JJEMeXe0tAG",
        "outputId": "0f44ad70-fee4-4d7d-bb13-e23b47d36e89"
      },
      "outputs": [
        {
          "output_type": "stream",
          "name": "stdout",
          "text": [
            "✅ Data Split Completed: Train (3177), Test (723)\n"
          ]
        }
      ],
      "source": [
        "# ✅ Convert target column to numeric (needed for ML)\n",
        "indexer = StringIndexer(inputCol=\"High Value Customer\", outputCol=\"label\")\n",
        "processed_df = indexer.fit(processed_df).transform(processed_df).drop(\"High Value Customer\")\n",
        "\n",
        "# ✅ Train-Test Split (80-20)\n",
        "train_data, test_data = processed_df.randomSplit([0.8, 0.2], seed=42)\n",
        "print(f\"✅ Data Split Completed: Train ({train_data.count()}), Test ({test_data.count()})\")\n"
      ]
    },
    {
      "cell_type": "markdown",
      "source": [
        "## **Model Training & Evaluation**\n",
        "1. **Define Models**: Implements `RandomForestClassifier` and `LogisticRegression`.\n",
        "2. **Define Evaluation Metrics**: Includes Accuracy, Precision, Recall, F1 Score, and AUC.\n",
        "3. **Train & Evaluate Models**: Uses Spark ML Pipeline to train models and evaluate performance.\n"
      ],
      "metadata": {
        "id": "-ONOT8hB8Wpj"
      }
    },
    {
      "cell_type": "code",
      "execution_count": 63,
      "metadata": {
        "id": "6_q8zUMg0tAG"
      },
      "outputs": [],
      "source": [
        "# Define your classifiers\n",
        "models = {\n",
        "    \"Random Forest\": RandomForestClassifier(featuresCol=\"features\", labelCol=\"label\", numTrees=50),\n",
        "    \"Logistic Regression\": LogisticRegression(featuresCol=\"features\", labelCol=\"label\", maxIter=20),\n",
        "}\n",
        "\n",
        "# Define evaluation metrics\n",
        "evaluators = {\n",
        "    \"Accuracy\": MulticlassClassificationEvaluator(labelCol=\"label\", predictionCol=\"prediction\", metricName=\"accuracy\"),\n",
        "    \"Precision\": MulticlassClassificationEvaluator(labelCol=\"label\", predictionCol=\"prediction\", metricName=\"weightedPrecision\"),\n",
        "    \"Recall\": MulticlassClassificationEvaluator(labelCol=\"label\", predictionCol=\"prediction\", metricName=\"weightedRecall\"),\n",
        "    \"F1 Score\": MulticlassClassificationEvaluator(labelCol=\"label\", predictionCol=\"prediction\", metricName=\"f1\"),\n",
        "    \"AUC\": BinaryClassificationEvaluator(labelCol=\"label\", rawPredictionCol=\"rawPrediction\", metricName=\"areaUnderROC\"),\n",
        "}"
      ]
    },
    {
      "cell_type": "markdown",
      "source": [
        "### 🚀 Model Training, Evaluation, and Cloud Storage Function\n",
        "\n",
        "This function **trains a model, evaluates its performance, saves predictions and the trained model**, and optionally uploads them to IBM Cloud Object Storage (COS).\n",
        "\n",
        "#### 📌 **Function: `evaluate_model`**\n",
        "- **Inputs:**\n",
        "  - `model_name`: Name of the model (e.g., \"Random Forest\", \"Logistic Regression\").\n",
        "  - `model`: The PySpark ML model instance.\n",
        "  - `train_data`: Training dataset.\n",
        "  - `test_data`: Testing dataset.\n",
        "  - `cos_client`: IBM Cloud Object Storage client.\n",
        "  - `bucket_name`: IBM COS bucket where the model and predictions will be stored.\n",
        "  - `save_path`: Optional directory path to save the model and predictions locally before upload.\n",
        "\n",
        "- **Workflow:**\n",
        "  1. Uses a **Pipeline** to train the model on `train_data`.\n",
        "  2. Generates **predictions** on `test_data`.\n",
        "  3. Evaluates **Accuracy, Precision, Recall, F1 Score, and AUC** using predefined evaluators.\n",
        "  4. **Displays performance metrics** in a readable format.\n",
        "  5. **Saves predictions and the trained model** locally if `save_path` is provided.\n",
        "  6. **Compresses the saved outputs** (Parquet files and model files) into ZIP format.\n",
        "  7. **Uploads the compressed ZIP files** to IBM Cloud Object Storage.\n",
        "\n",
        "- **Returns:**\n",
        "  - A tuple containing (`model_name`, Accuracy, Precision, Recall, F1 Score, AUC).\n",
        "\n",
        "#### 📌 **Execution**\n",
        "- The function is executed for all models stored in the `models` dictionary.\n",
        "- The results are stored in the `model_results` list.\n",
        "\n",
        "This approach ensures an **automated, scalable** pipeline for model training, evaluation, and deployment to the cloud. ✅\n"
      ],
      "metadata": {
        "id": "TqrvCtHX9Bpe"
      }
    },
    {
      "cell_type": "code",
      "execution_count": 64,
      "metadata": {
        "colab": {
          "base_uri": "https://localhost:8080/"
        },
        "id": "XaWTYKYe0tAG",
        "outputId": "6ab46345-7360-402c-f330-afd420bdde4e"
      },
      "outputs": [
        {
          "output_type": "stream",
          "name": "stdout",
          "text": [
            "\n",
            "🔹 Random Forest Performance Metrics:\n",
            "✅ Accuracy: 0.9461\n",
            "✅ Precision: 0.9497\n",
            "✅ Recall: 0.9461\n",
            "✅ F1 Score: 0.9439\n",
            "✅ AUC: 0.9992\n",
            "✅ Predictions for Random Forest saved to: /mnt/data/Random_Forest_predictions\n",
            "✅ Model saved to: /mnt/data/Random_Forest_model\n",
            "✅ Model and predictions uploaded to IBM Cloud Object Storage as ZIP files.\n",
            "\n",
            "🔹 Logistic Regression Performance Metrics:\n",
            "✅ Accuracy: 0.9723\n",
            "✅ Precision: 0.9723\n",
            "✅ Recall: 0.9723\n",
            "✅ F1 Score: 0.9723\n",
            "✅ AUC: 0.9974\n",
            "✅ Predictions for Logistic Regression saved to: /mnt/data/Logistic_Regression_predictions\n",
            "✅ Model saved to: /mnt/data/Logistic_Regression_model\n",
            "✅ Model and predictions uploaded to IBM Cloud Object Storage as ZIP files.\n"
          ]
        }
      ],
      "source": [
        "import shutil\n",
        "import os\n",
        "\n",
        "# Define a function to train, evaluate, and save predictions & model to COS.\n",
        "def evaluate_model(model_name, model, train_data, test_data, cos_client, bucket_name, save_path=None):\n",
        "    \"\"\"\n",
        "    Trains a model, evaluates performance, saves predictions and model if save_path is provided.\n",
        "    Returns a tuple: (model_name, Accuracy, Precision, Recall, F1 Score, AUC)\n",
        "    \"\"\"\n",
        "    pipeline = Pipeline(stages=[model])\n",
        "    trained_model = pipeline.fit(train_data)\n",
        "    predictions = trained_model.transform(test_data)\n",
        "\n",
        "    # Evaluate performance metrics\n",
        "    metrics = {metric_name: evaluator.evaluate(predictions)\n",
        "               for metric_name, evaluator in evaluators.items()}\n",
        "\n",
        "    print(f\"\\n🔹 {model_name} Performance Metrics:\")\n",
        "    for metric, value in metrics.items():\n",
        "        print(f\"✅ {metric}: {value:.4f}\")\n",
        "\n",
        "    if save_path is not None:\n",
        "        model_folder = f\"{save_path}/{model_name.replace(' ', '_')}_model\"\n",
        "        predictions_folder = f\"{save_path}/{model_name.replace(' ', '_')}_predictions\"\n",
        "\n",
        "        # ✅ Save predictions as Parquet (Spark saves it as a directory)\n",
        "        predictions.write.mode(\"overwrite\").parquet(predictions_folder)\n",
        "        print(f\"✅ Predictions for {model_name} saved to: {predictions_folder}\")\n",
        "\n",
        "        # ✅ Save trained model\n",
        "        trained_model.write().overwrite().save(model_folder)\n",
        "        print(f\"✅ Model saved to: {model_folder}\")\n",
        "\n",
        "        # ✅ Zip the Parquet directory\n",
        "        predictions_zip = f\"{predictions_folder}.zip\"\n",
        "        shutil.make_archive(predictions_folder, 'zip', predictions_folder)\n",
        "\n",
        "        model_zip = f\"{model_folder}.zip\"\n",
        "        shutil.make_archive(model_folder, 'zip', model_folder)\n",
        "\n",
        "        # ✅ Upload to IBM COS\n",
        "        with open(predictions_zip, \"rb\") as f:\n",
        "            cos_client.put_object(Bucket=bucket_name, Key=f\"{model_name.replace(' ', '_')}_predictions.zip\", Body=f.read())\n",
        "\n",
        "        with open(model_zip, \"rb\") as f:\n",
        "            cos_client.put_object(Bucket=bucket_name, Key=f\"{model_name.replace(' ', '_')}_model.zip\", Body=f.read())\n",
        "\n",
        "        print(f\"✅ Model and predictions uploaded to IBM Cloud Object Storage as ZIP files.\")\n",
        "\n",
        "    return (model_name, *metrics.values())\n",
        "\n",
        "# Evaluate models and store results\n",
        "model_results = [evaluate_model(name, model, train_data, test_data, cos_client, BUCKET_NAME, save_path=\"/mnt/data\")\n",
        "                 for name, model in models.items()]\n"
      ]
    },
    {
      "cell_type": "markdown",
      "source": [
        "## **Model Performance Comparison**\n",
        "1. **Convert Results to DataFrame**: Store model evaluation metrics in a structured format.\n",
        "2. **Upload Comparison Results**: Save model performance comparison as a CSV file to IBM COS.\n",
        "3. **Select Best Model**: Choose the model with the highest AUC score.\n"
      ],
      "metadata": {
        "id": "PBnq757M9I8Q"
      }
    },
    {
      "cell_type": "code",
      "execution_count": 65,
      "metadata": {
        "colab": {
          "base_uri": "https://localhost:8080/"
        },
        "id": "lN8y2UMN0tAH",
        "outputId": "90b7b4f6-b684-41e6-877d-99b3b9e05844"
      },
      "outputs": [
        {
          "output_type": "stream",
          "name": "stdout",
          "text": [
            "✅ Model Comparison Results:\n",
            "                 Model  Accuracy  Precision    Recall  F1 Score       AUC\n",
            "0        Random Forest  0.946058   0.949730  0.946058  0.943905  0.999188\n",
            "1  Logistic Regression  0.972337   0.972337  0.972337  0.972337  0.997384\n",
            "✅ Model comparison results saved to IBM Cloud Object Storage\n",
            "\n",
            "🔹 Best model based on AUC is: Random Forest\n"
          ]
        }
      ],
      "source": [
        "from pyspark.sql import DataFrame\n",
        "import pandas as pd\n",
        "import io\n",
        "\n",
        "# Convert results to Pandas DataFrame (excluding predictions)\n",
        "results_pd = pd.DataFrame(\n",
        "    model_results,\n",
        "    columns=[\"Model\", *evaluators.keys()]\n",
        ")\n",
        "\n",
        "print(\"✅ Model Comparison Results:\")\n",
        "print(results_pd)\n",
        "\n",
        "# Upload model comparison results to IBM COS\n",
        "csv_buffer = io.StringIO()\n",
        "results_pd.to_csv(csv_buffer, index=False)\n",
        "cos_client.put_object(Bucket=BUCKET_NAME, Key=\"model_comparison_results.csv\", Body=csv_buffer.getvalue())\n",
        "\n",
        "print(\"✅ Model comparison results saved to IBM Cloud Object Storage\")\n",
        "\n",
        "# Extract best model based on highest AUC\n",
        "best_model_name = results_pd.loc[results_pd[\"AUC\"].idxmax(), \"Model\"]\n",
        "print(f\"\\n🔹 Best model based on AUC is: {best_model_name}\")\n"
      ]
    },
    {
      "cell_type": "code",
      "source": [
        "!mv /content/predictions/Random_Forest_predictions.parquet \"/content/drive/MyDrive/IBM_Project/\""
      ],
      "metadata": {
        "id": "ig1tofZQ7185",
        "colab": {
          "base_uri": "https://localhost:8080/"
        },
        "outputId": "ace0410f-4a7d-4f7d-a234-d1e4b7534bb5"
      },
      "execution_count": 66,
      "outputs": [
        {
          "output_type": "stream",
          "name": "stdout",
          "text": [
            "mv: cannot stat '/content/predictions/Random_Forest_predictions.parquet': No such file or directory\n"
          ]
        }
      ]
    },
    {
      "cell_type": "markdown",
      "source": [
        "## **Download & Extract Predictions from IBM COS**\n",
        "1. **Download ZIP File**: Fetches the model predictions from IBM Cloud Object Storage.\n",
        "2. **Extract Contents**: Unzips the downloaded file for further analysis.\n",
        "3. **Load into Spark**: Reads extracted Parquet files into a Spark DataFrame for inspection.\n"
      ],
      "metadata": {
        "id": "e-ZC25Fr9boz"
      }
    },
    {
      "cell_type": "code",
      "source": [
        "import zipfile\n",
        "import os\n",
        "\n",
        "def extract_zip_from_cos(cos_client, bucket_name, zip_filename, extract_path=\"/mnt/data\"):\n",
        "    \"\"\"\n",
        "    Downloads a ZIP file from IBM COS, extracts it, and returns the extracted folder path.\n",
        "    \"\"\"\n",
        "    local_zip_path = f\"{extract_path}/{zip_filename}\"\n",
        "\n",
        "    # ✅ Download the ZIP file from COS\n",
        "    with open(local_zip_path, \"wb\") as f:\n",
        "        cos_client.download_fileobj(bucket_name, zip_filename, f)\n",
        "\n",
        "    print(f\"✅ {zip_filename} downloaded from IBM COS.\")\n",
        "\n",
        "    # ✅ Extract the ZIP file\n",
        "    extracted_folder = local_zip_path.replace(\".zip\", \"\")\n",
        "    with zipfile.ZipFile(local_zip_path, 'r') as zip_ref:\n",
        "        zip_ref.extractall(extracted_folder)\n",
        "\n",
        "    print(f\"✅ {zip_filename} extracted to {extracted_folder}\")\n",
        "\n",
        "    return extracted_folder\n",
        "\n",
        "# Example usage:\n",
        "predictions_folder = extract_zip_from_cos(cos_client, BUCKET_NAME, \"Random_Forest_predictions.zip\")\n",
        "\n",
        "# ✅ Load extracted Parquet data into Spark DataFrame\n",
        "predictions_df = spark.read.parquet(predictions_folder)\n",
        "predictions_df.show(5)\n"
      ],
      "metadata": {
        "id": "nF3xh20I8MYQ",
        "colab": {
          "base_uri": "https://localhost:8080/"
        },
        "outputId": "feb20f3a-7648-4c70-e180-03d9dba53775"
      },
      "execution_count": 67,
      "outputs": [
        {
          "output_type": "stream",
          "name": "stdout",
          "text": [
            "✅ Random_Forest_predictions.zip downloaded from IBM COS.\n",
            "✅ Random_Forest_predictions.zip extracted to /mnt/data/Random_Forest_predictions\n",
            "+---+-------------------+----------------+---------------+------------------+--------------------+-----+--------------------+--------------------+----------+\n",
            "|Age|Subscription Status|Discount Applied|Promo Code Used|Previous Purchases|            features|label|       rawPrediction|         probability|prediction|\n",
            "+---+-------------------+----------------+---------------+------------------+--------------------+-----+--------------------+--------------------+----------+\n",
            "| 18|                  0|               0|              0|                 3|(129,[6,37,76,94,...|  0.0|[44.1882008211829...|[0.88376401642365...|       0.0|\n",
            "| 18|                  0|               0|              0|                 5|(129,[12,24,34,76...|  0.0|[43.9732433678702...|[0.87946486735740...|       0.0|\n",
            "| 18|                  0|               0|              0|                 5|(129,[14,24,64,10...|  0.0|[43.4896757876328...|[0.86979351575265...|       0.0|\n",
            "| 18|                  0|               0|              0|                 9|(129,[23,25,48,78...|  0.0|[43.7332389196786...|[0.87466477839357...|       0.0|\n",
            "| 18|                  0|               0|              0|                16|(129,[0,24,43,78,...|  0.0|[43.3470659873755...|[0.86694131974751...|       0.0|\n",
            "+---+-------------------+----------------+---------------+------------------+--------------------+-----+--------------------+--------------------+----------+\n",
            "only showing top 5 rows\n",
            "\n"
          ]
        }
      ]
    },
    {
      "cell_type": "markdown",
      "source": [
        "## **Validating Predictions File**\n",
        "1. **Check Parquet File Existence**: Ensures the extracted predictions file is valid.\n",
        "2. **Load Predictions**: Reads and displays sample predictions.\n",
        "\n"
      ],
      "metadata": {
        "id": "v54PVrNt9jTP"
      }
    },
    {
      "cell_type": "code",
      "source": [
        "from pyspark.sql.utils import AnalysisException\n",
        "\n",
        "try:\n",
        "    predictions_df = spark.read.parquet(predictions_folder)\n",
        "    print(\"✅ Parquet file loaded successfully!\")\n",
        "    predictions_df.show(5)  # Show first 5 rows\n",
        "except AnalysisException:\n",
        "    print(\"❌ No valid Parquet file found in extracted folder!\")\n"
      ],
      "metadata": {
        "colab": {
          "base_uri": "https://localhost:8080/"
        },
        "id": "T5GNAyZiwUmS",
        "outputId": "27b6a290-ef28-45a2-ad2d-903dfeb9320c"
      },
      "execution_count": 68,
      "outputs": [
        {
          "output_type": "stream",
          "name": "stdout",
          "text": [
            "✅ Parquet file loaded successfully!\n",
            "+---+-------------------+----------------+---------------+------------------+--------------------+-----+--------------------+--------------------+----------+\n",
            "|Age|Subscription Status|Discount Applied|Promo Code Used|Previous Purchases|            features|label|       rawPrediction|         probability|prediction|\n",
            "+---+-------------------+----------------+---------------+------------------+--------------------+-----+--------------------+--------------------+----------+\n",
            "| 18|                  0|               0|              0|                 3|(129,[6,37,76,94,...|  0.0|[44.1882008211829...|[0.88376401642365...|       0.0|\n",
            "| 18|                  0|               0|              0|                 5|(129,[12,24,34,76...|  0.0|[43.9732433678702...|[0.87946486735740...|       0.0|\n",
            "| 18|                  0|               0|              0|                 5|(129,[14,24,64,10...|  0.0|[43.4896757876328...|[0.86979351575265...|       0.0|\n",
            "| 18|                  0|               0|              0|                 9|(129,[23,25,48,78...|  0.0|[43.7332389196786...|[0.87466477839357...|       0.0|\n",
            "| 18|                  0|               0|              0|                16|(129,[0,24,43,78,...|  0.0|[43.3470659873755...|[0.86694131974751...|       0.0|\n",
            "+---+-------------------+----------------+---------------+------------------+--------------------+-----+--------------------+--------------------+----------+\n",
            "only showing top 5 rows\n",
            "\n"
          ]
        }
      ]
    },
    {
      "cell_type": "markdown",
      "source": [
        "## **List IBM Cloud Object Storage Contents**\n",
        "1. **Retrieve File List**: Lists all files and folders stored in the IBM COS bucket.\n",
        "2. **Validate Uploads**: Ensures that required files (models, predictions) exist."
      ],
      "metadata": {
        "id": "eP4Dkxfr9pQL"
      }
    },
    {
      "cell_type": "code",
      "source": [
        "import ibm_boto3\n",
        "from ibm_botocore.client import Config\n",
        "\n",
        "def list_bucket_contents(cos_client, bucket_name):\n",
        "    \"\"\"\n",
        "    Lists all files and folders stored in the specified IBM COS bucket.\n",
        "    \"\"\"\n",
        "    try:\n",
        "        response = cos_client.list_objects_v2(Bucket=bucket_name)\n",
        "\n",
        "        if 'Contents' not in response:\n",
        "            print(f\"📂 Bucket '{bucket_name}' is empty.\")\n",
        "            return\n",
        "\n",
        "        print(f\"📂 Contents of '{bucket_name}':\")\n",
        "        for obj in response['Contents']:\n",
        "            print(f\"  - {obj['Key']}\")\n",
        "\n",
        "    except Exception as e:\n",
        "        print(f\"❌ Error listing bucket contents: {str(e)}\")\n",
        "\n",
        "# Example usage:\n",
        "list_bucket_contents(cos_client, BUCKET_NAME)\n"
      ],
      "metadata": {
        "colab": {
          "base_uri": "https://localhost:8080/"
        },
        "id": "62mwBUmIwmx8",
        "outputId": "1fdde083-0dfa-46be-8bec-f350639022cc"
      },
      "execution_count": 69,
      "outputs": [
        {
          "output_type": "stream",
          "name": "stdout",
          "text": [
            "📂 Contents of 'processed-data-bucket':\n",
            "  - Logistic_Regression_model.zip\n",
            "  - Logistic_Regression_predictions.zip\n",
            "  - Random Forest/._SUCCESS.crc\n",
            "  - Random Forest/.part-00000-e88714df-5953-4649-bb99-31df0fade10a-c000.snappy.parquet.crc\n",
            "  - Random Forest/_SUCCESS\n",
            "  - Random Forest/part-00000-e88714df-5953-4649-bb99-31df0fade10a-c000.snappy.parquet\n",
            "  - Random_Forest_model.zip\n",
            "  - Random_Forest_predictions.zip\n",
            "  - model_comparison_results.csv\n",
            "  - processed_customer_purchase_behavior.csv\n"
          ]
        }
      ]
    },
    {
      "cell_type": "markdown",
      "source": [
        "## **Extract & Re-upload Files to IBM Cloud**\n",
        "1. **Download & Extract ZIP File**: Fetches and unzips model files from IBM COS.\n",
        "2. **Upload Extracted Files**: Re-uploads extracted files back to IBM COS for further usage."
      ],
      "metadata": {
        "id": "fpiBbhnw9whC"
      }
    },
    {
      "cell_type": "code",
      "source": [
        "import ibm_boto3\n",
        "from ibm_botocore.client import Config\n",
        "import zipfile\n",
        "import os\n",
        "\n",
        "# Function to extract and upload files back to IBM COS\n",
        "def extract_and_upload(cos_client, bucket_name, zip_filename, extract_to=\"/mnt/data/extracted_files\"):\n",
        "    \"\"\"\n",
        "    Downloads a ZIP file from IBM COS, extracts it, and uploads extracted files back to COS.\n",
        "    \"\"\"\n",
        "    # Ensure extract directory exists\n",
        "    os.makedirs(extract_to, exist_ok=True)\n",
        "\n",
        "    # Download ZIP file from COS\n",
        "    zip_path = f\"/mnt/data/{zip_filename}\"\n",
        "    try:\n",
        "        cos_client.download_file(Bucket=bucket_name, Key=zip_filename, Filename=zip_path)\n",
        "        print(f\"✅ Downloaded {zip_filename} from IBM COS.\")\n",
        "    except Exception as e:\n",
        "        print(f\"❌ Error downloading ZIP file: {e}\")\n",
        "        return\n",
        "\n",
        "    # Extract ZIP file\n",
        "    try:\n",
        "        with zipfile.ZipFile(zip_path, 'r') as zip_ref:\n",
        "            zip_ref.extractall(extract_to)\n",
        "        print(f\"✅ Extracted files to: {extract_to}\")\n",
        "    except Exception as e:\n",
        "        print(f\"❌ Error extracting ZIP file: {e}\")\n",
        "        return\n",
        "\n",
        "    # Upload extracted files back to IBM COS\n",
        "    for root, _, files in os.walk(extract_to):\n",
        "        for file in files:\n",
        "            file_path = os.path.join(root, file)\n",
        "            object_key = f\"{best_model_name}/{file}\"  # Upload inside 'extracted/' folder in COS\n",
        "\n",
        "            try:\n",
        "                with open(file_path, \"rb\") as f:\n",
        "                    cos_client.put_object(Bucket=bucket_name, Key=object_key, Body=f)\n",
        "                print(f\"✅ Uploaded {file} to IBM COS at: extracted/{file}\")\n",
        "            except Exception as e:\n",
        "                print(f\"❌ Error uploading {file}: {e}\")\n",
        "\n",
        "# Example usage:\n",
        "extract_and_upload(cos_client, \"processed-data-bucket\", \"Random_Forest_predictions.zip\")\n"
      ],
      "metadata": {
        "colab": {
          "base_uri": "https://localhost:8080/"
        },
        "id": "V4TC4Cw6xDuQ",
        "outputId": "c0af6de8-d468-4eae-c4a9-d1ba4829eb88"
      },
      "execution_count": 70,
      "outputs": [
        {
          "output_type": "stream",
          "name": "stdout",
          "text": [
            "✅ Downloaded Random_Forest_predictions.zip from IBM COS.\n",
            "✅ Extracted files to: /mnt/data/extracted_files\n",
            "✅ Uploaded ._SUCCESS.crc to IBM COS at: extracted/._SUCCESS.crc\n",
            "✅ Uploaded _SUCCESS to IBM COS at: extracted/_SUCCESS\n",
            "✅ Uploaded .part-00000-e88714df-5953-4649-bb99-31df0fade10a-c000.snappy.parquet.crc to IBM COS at: extracted/.part-00000-e88714df-5953-4649-bb99-31df0fade10a-c000.snappy.parquet.crc\n",
            "✅ Uploaded part-00000-9f0f3f38-6cb7-4d8b-8ca9-5c925c7a5c1e-c000.snappy.parquet to IBM COS at: extracted/part-00000-9f0f3f38-6cb7-4d8b-8ca9-5c925c7a5c1e-c000.snappy.parquet\n",
            "✅ Uploaded part-00000-e88714df-5953-4649-bb99-31df0fade10a-c000.snappy.parquet to IBM COS at: extracted/part-00000-e88714df-5953-4649-bb99-31df0fade10a-c000.snappy.parquet\n",
            "✅ Uploaded .part-00000-9f0f3f38-6cb7-4d8b-8ca9-5c925c7a5c1e-c000.snappy.parquet.crc to IBM COS at: extracted/.part-00000-9f0f3f38-6cb7-4d8b-8ca9-5c925c7a5c1e-c000.snappy.parquet.crc\n"
          ]
        }
      ]
    },
    {
      "cell_type": "code",
      "source": [],
      "metadata": {
        "id": "gGgbLw24yLwq"
      },
      "execution_count": 70,
      "outputs": []
    }
  ],
  "metadata": {
    "kernelspec": {
      "display_name": "Python 3 (ipykernel)",
      "language": "python",
      "name": "python3"
    },
    "language_info": {
      "codemirror_mode": {
        "name": "ipython",
        "version": 3
      },
      "file_extension": ".py",
      "mimetype": "text/x-python",
      "name": "python",
      "nbconvert_exporter": "python",
      "pygments_lexer": "ipython3",
      "version": "3.10.16"
    },
    "colab": {
      "provenance": []
    }
  },
  "nbformat": 4,
  "nbformat_minor": 0
}